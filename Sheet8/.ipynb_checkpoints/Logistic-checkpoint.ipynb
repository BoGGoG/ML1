{
 "cells": [
  {
   "cell_type": "markdown",
   "metadata": {},
   "source": [
    "# Machine Learning 1 Competition Sheet\n",
    "Marco Knipfer"
   ]
  },
  {
   "cell_type": "code",
   "execution_count": 50,
   "metadata": {},
   "outputs": [],
   "source": [
    "import pandas as pd\n",
    "import seaborn as sns\n",
    "import numpy as np\n",
    "from sklearn.preprocessing import OneHotEncoder\n",
    "import matplotlib.pyplot as plt\n",
    "from sklearn.model_selection import train_test_split\n",
    "import statsmodels.api as sm\n",
    "from sklearn.linear_model import LogisticRegression\n",
    "from sklearn import metrics\n",
    "from sklearn.metrics import classification_report\n",
    "from sklearn.metrics import confusion_matrix\n",
    "from sklearn.metrics import roc_auc_score\n",
    "from sklearn.metrics import roc_curve\n",
    "from imblearn.over_sampling import SMOTE\n"
   ]
  },
  {
   "cell_type": "markdown",
   "metadata": {},
   "source": [
    "Heavily inspred by https://towardsdatascience.com/building-a-logistic-regression-in-python-step-by-step-becd4d56c9c8"
   ]
  },
  {
   "cell_type": "code",
   "execution_count": 2,
   "metadata": {},
   "outputs": [],
   "source": [
    "filenameX = 'trainX.dat'\n",
    "filenamet = 'traint.dat'\n",
    "dfx = pd.read_csv(filenameX, sep = '\\t')\n",
    "dft = pd.read_csv(filenamet, sep = '\\t')\n",
    "dfx['y'] = dft['0']"
   ]
  },
  {
   "cell_type": "code",
   "execution_count": 3,
   "metadata": {},
   "outputs": [
    {
     "data": {
      "text/html": [
       "<div>\n",
       "<style scoped>\n",
       "    .dataframe tbody tr th:only-of-type {\n",
       "        vertical-align: middle;\n",
       "    }\n",
       "\n",
       "    .dataframe tbody tr th {\n",
       "        vertical-align: top;\n",
       "    }\n",
       "\n",
       "    .dataframe thead th {\n",
       "        text-align: right;\n",
       "    }\n",
       "</style>\n",
       "<table border=\"1\" class=\"dataframe\">\n",
       "  <thead>\n",
       "    <tr style=\"text-align: right;\">\n",
       "      <th></th>\n",
       "      <th>1</th>\n",
       "      <th>24</th>\n",
       "      <th>0</th>\n",
       "      <th>2</th>\n",
       "      <th>4110</th>\n",
       "      <th>1.1</th>\n",
       "      <th>5</th>\n",
       "      <th>3</th>\n",
       "      <th>3.1</th>\n",
       "      <th>1.2</th>\n",
       "      <th>...</th>\n",
       "      <th>4.1</th>\n",
       "      <th>23</th>\n",
       "      <th>1.3</th>\n",
       "      <th>1.4</th>\n",
       "      <th>2.1</th>\n",
       "      <th>3.2</th>\n",
       "      <th>2.2</th>\n",
       "      <th>1.5</th>\n",
       "      <th>1.6</th>\n",
       "      <th>y</th>\n",
       "    </tr>\n",
       "  </thead>\n",
       "  <tbody>\n",
       "    <tr>\n",
       "      <th>count</th>\n",
       "      <td>749.000000</td>\n",
       "      <td>749.000000</td>\n",
       "      <td>749.000000</td>\n",
       "      <td>749.000000</td>\n",
       "      <td>749.000000</td>\n",
       "      <td>749.000000</td>\n",
       "      <td>749.000000</td>\n",
       "      <td>749.000000</td>\n",
       "      <td>749.000000</td>\n",
       "      <td>749.000000</td>\n",
       "      <td>...</td>\n",
       "      <td>749.000000</td>\n",
       "      <td>749.000000</td>\n",
       "      <td>749.000000</td>\n",
       "      <td>749.000000</td>\n",
       "      <td>749.000000</td>\n",
       "      <td>749.000000</td>\n",
       "      <td>749.000000</td>\n",
       "      <td>749.000000</td>\n",
       "      <td>749.000000</td>\n",
       "      <td>749.000000</td>\n",
       "    </tr>\n",
       "    <tr>\n",
       "      <th>mean</th>\n",
       "      <td>2.567423</td>\n",
       "      <td>20.851802</td>\n",
       "      <td>2.523364</td>\n",
       "      <td>2.870494</td>\n",
       "      <td>3231.854473</td>\n",
       "      <td>2.056075</td>\n",
       "      <td>3.355140</td>\n",
       "      <td>2.993324</td>\n",
       "      <td>2.668892</td>\n",
       "      <td>1.154873</td>\n",
       "      <td>...</td>\n",
       "      <td>2.356475</td>\n",
       "      <td>35.333778</td>\n",
       "      <td>2.660881</td>\n",
       "      <td>1.922563</td>\n",
       "      <td>1.408545</td>\n",
       "      <td>2.899866</td>\n",
       "      <td>1.146862</td>\n",
       "      <td>1.401869</td>\n",
       "      <td>1.033378</td>\n",
       "      <td>0.707610</td>\n",
       "    </tr>\n",
       "    <tr>\n",
       "      <th>std</th>\n",
       "      <td>1.253788</td>\n",
       "      <td>11.965891</td>\n",
       "      <td>1.080231</td>\n",
       "      <td>2.743109</td>\n",
       "      <td>2815.132637</td>\n",
       "      <td>1.543333</td>\n",
       "      <td>1.204677</td>\n",
       "      <td>1.107200</td>\n",
       "      <td>0.693635</td>\n",
       "      <td>0.493317</td>\n",
       "      <td>...</td>\n",
       "      <td>1.046909</td>\n",
       "      <td>11.465862</td>\n",
       "      <td>0.716371</td>\n",
       "      <td>0.536762</td>\n",
       "      <td>0.574625</td>\n",
       "      <td>0.649444</td>\n",
       "      <td>0.354205</td>\n",
       "      <td>0.490603</td>\n",
       "      <td>0.179741</td>\n",
       "      <td>0.455164</td>\n",
       "    </tr>\n",
       "    <tr>\n",
       "      <th>min</th>\n",
       "      <td>1.000000</td>\n",
       "      <td>4.000000</td>\n",
       "      <td>0.000000</td>\n",
       "      <td>0.000000</td>\n",
       "      <td>250.000000</td>\n",
       "      <td>1.000000</td>\n",
       "      <td>1.000000</td>\n",
       "      <td>1.000000</td>\n",
       "      <td>1.000000</td>\n",
       "      <td>1.000000</td>\n",
       "      <td>...</td>\n",
       "      <td>1.000000</td>\n",
       "      <td>19.000000</td>\n",
       "      <td>1.000000</td>\n",
       "      <td>1.000000</td>\n",
       "      <td>1.000000</td>\n",
       "      <td>1.000000</td>\n",
       "      <td>1.000000</td>\n",
       "      <td>1.000000</td>\n",
       "      <td>1.000000</td>\n",
       "      <td>0.000000</td>\n",
       "    </tr>\n",
       "    <tr>\n",
       "      <th>25%</th>\n",
       "      <td>1.000000</td>\n",
       "      <td>12.000000</td>\n",
       "      <td>2.000000</td>\n",
       "      <td>1.000000</td>\n",
       "      <td>1355.000000</td>\n",
       "      <td>1.000000</td>\n",
       "      <td>3.000000</td>\n",
       "      <td>2.000000</td>\n",
       "      <td>2.000000</td>\n",
       "      <td>1.000000</td>\n",
       "      <td>...</td>\n",
       "      <td>1.000000</td>\n",
       "      <td>27.000000</td>\n",
       "      <td>3.000000</td>\n",
       "      <td>2.000000</td>\n",
       "      <td>1.000000</td>\n",
       "      <td>3.000000</td>\n",
       "      <td>1.000000</td>\n",
       "      <td>1.000000</td>\n",
       "      <td>1.000000</td>\n",
       "      <td>0.000000</td>\n",
       "    </tr>\n",
       "    <tr>\n",
       "      <th>50%</th>\n",
       "      <td>2.000000</td>\n",
       "      <td>18.000000</td>\n",
       "      <td>2.000000</td>\n",
       "      <td>2.000000</td>\n",
       "      <td>2292.000000</td>\n",
       "      <td>1.000000</td>\n",
       "      <td>3.000000</td>\n",
       "      <td>3.000000</td>\n",
       "      <td>3.000000</td>\n",
       "      <td>1.000000</td>\n",
       "      <td>...</td>\n",
       "      <td>2.000000</td>\n",
       "      <td>33.000000</td>\n",
       "      <td>3.000000</td>\n",
       "      <td>2.000000</td>\n",
       "      <td>1.000000</td>\n",
       "      <td>3.000000</td>\n",
       "      <td>1.000000</td>\n",
       "      <td>1.000000</td>\n",
       "      <td>1.000000</td>\n",
       "      <td>1.000000</td>\n",
       "    </tr>\n",
       "    <tr>\n",
       "      <th>75%</th>\n",
       "      <td>4.000000</td>\n",
       "      <td>24.000000</td>\n",
       "      <td>4.000000</td>\n",
       "      <td>3.000000</td>\n",
       "      <td>3919.000000</td>\n",
       "      <td>3.000000</td>\n",
       "      <td>4.000000</td>\n",
       "      <td>4.000000</td>\n",
       "      <td>3.000000</td>\n",
       "      <td>1.000000</td>\n",
       "      <td>...</td>\n",
       "      <td>3.000000</td>\n",
       "      <td>41.000000</td>\n",
       "      <td>3.000000</td>\n",
       "      <td>2.000000</td>\n",
       "      <td>2.000000</td>\n",
       "      <td>3.000000</td>\n",
       "      <td>1.000000</td>\n",
       "      <td>2.000000</td>\n",
       "      <td>1.000000</td>\n",
       "      <td>1.000000</td>\n",
       "    </tr>\n",
       "    <tr>\n",
       "      <th>max</th>\n",
       "      <td>4.000000</td>\n",
       "      <td>60.000000</td>\n",
       "      <td>4.000000</td>\n",
       "      <td>10.000000</td>\n",
       "      <td>18424.000000</td>\n",
       "      <td>5.000000</td>\n",
       "      <td>5.000000</td>\n",
       "      <td>4.000000</td>\n",
       "      <td>4.000000</td>\n",
       "      <td>3.000000</td>\n",
       "      <td>...</td>\n",
       "      <td>4.000000</td>\n",
       "      <td>75.000000</td>\n",
       "      <td>3.000000</td>\n",
       "      <td>3.000000</td>\n",
       "      <td>4.000000</td>\n",
       "      <td>4.000000</td>\n",
       "      <td>2.000000</td>\n",
       "      <td>2.000000</td>\n",
       "      <td>2.000000</td>\n",
       "      <td>1.000000</td>\n",
       "    </tr>\n",
       "  </tbody>\n",
       "</table>\n",
       "<p>8 rows × 21 columns</p>\n",
       "</div>"
      ],
      "text/plain": [
       "                1          24           0           2          4110  \\\n",
       "count  749.000000  749.000000  749.000000  749.000000    749.000000   \n",
       "mean     2.567423   20.851802    2.523364    2.870494   3231.854473   \n",
       "std      1.253788   11.965891    1.080231    2.743109   2815.132637   \n",
       "min      1.000000    4.000000    0.000000    0.000000    250.000000   \n",
       "25%      1.000000   12.000000    2.000000    1.000000   1355.000000   \n",
       "50%      2.000000   18.000000    2.000000    2.000000   2292.000000   \n",
       "75%      4.000000   24.000000    4.000000    3.000000   3919.000000   \n",
       "max      4.000000   60.000000    4.000000   10.000000  18424.000000   \n",
       "\n",
       "              1.1           5           3         3.1         1.2     ...      \\\n",
       "count  749.000000  749.000000  749.000000  749.000000  749.000000     ...       \n",
       "mean     2.056075    3.355140    2.993324    2.668892    1.154873     ...       \n",
       "std      1.543333    1.204677    1.107200    0.693635    0.493317     ...       \n",
       "min      1.000000    1.000000    1.000000    1.000000    1.000000     ...       \n",
       "25%      1.000000    3.000000    2.000000    2.000000    1.000000     ...       \n",
       "50%      1.000000    3.000000    3.000000    3.000000    1.000000     ...       \n",
       "75%      3.000000    4.000000    4.000000    3.000000    1.000000     ...       \n",
       "max      5.000000    5.000000    4.000000    4.000000    3.000000     ...       \n",
       "\n",
       "              4.1          23         1.3         1.4         2.1         3.2  \\\n",
       "count  749.000000  749.000000  749.000000  749.000000  749.000000  749.000000   \n",
       "mean     2.356475   35.333778    2.660881    1.922563    1.408545    2.899866   \n",
       "std      1.046909   11.465862    0.716371    0.536762    0.574625    0.649444   \n",
       "min      1.000000   19.000000    1.000000    1.000000    1.000000    1.000000   \n",
       "25%      1.000000   27.000000    3.000000    2.000000    1.000000    3.000000   \n",
       "50%      2.000000   33.000000    3.000000    2.000000    1.000000    3.000000   \n",
       "75%      3.000000   41.000000    3.000000    2.000000    2.000000    3.000000   \n",
       "max      4.000000   75.000000    3.000000    3.000000    4.000000    4.000000   \n",
       "\n",
       "              2.2         1.5         1.6           y  \n",
       "count  749.000000  749.000000  749.000000  749.000000  \n",
       "mean     1.146862    1.401869    1.033378    0.707610  \n",
       "std      0.354205    0.490603    0.179741    0.455164  \n",
       "min      1.000000    1.000000    1.000000    0.000000  \n",
       "25%      1.000000    1.000000    1.000000    0.000000  \n",
       "50%      1.000000    1.000000    1.000000    1.000000  \n",
       "75%      1.000000    2.000000    1.000000    1.000000  \n",
       "max      2.000000    2.000000    2.000000    1.000000  \n",
       "\n",
       "[8 rows x 21 columns]"
      ]
     },
     "execution_count": 3,
     "metadata": {},
     "output_type": "execute_result"
    }
   ],
   "source": [
    "dfx.describe()"
   ]
  },
  {
   "cell_type": "code",
   "execution_count": 4,
   "metadata": {
    "scrolled": true
   },
   "outputs": [
    {
     "data": {
      "text/html": [
       "<div>\n",
       "<style scoped>\n",
       "    .dataframe tbody tr th:only-of-type {\n",
       "        vertical-align: middle;\n",
       "    }\n",
       "\n",
       "    .dataframe tbody tr th {\n",
       "        vertical-align: top;\n",
       "    }\n",
       "\n",
       "    .dataframe thead th {\n",
       "        text-align: right;\n",
       "    }\n",
       "</style>\n",
       "<table border=\"1\" class=\"dataframe\">\n",
       "  <thead>\n",
       "    <tr style=\"text-align: right;\">\n",
       "      <th></th>\n",
       "      <th>1</th>\n",
       "      <th>24</th>\n",
       "      <th>0</th>\n",
       "      <th>2</th>\n",
       "      <th>4110</th>\n",
       "      <th>1.1</th>\n",
       "      <th>5</th>\n",
       "      <th>3</th>\n",
       "      <th>3.1</th>\n",
       "      <th>1.2</th>\n",
       "      <th>...</th>\n",
       "      <th>4.1</th>\n",
       "      <th>23</th>\n",
       "      <th>1.3</th>\n",
       "      <th>1.4</th>\n",
       "      <th>2.1</th>\n",
       "      <th>3.2</th>\n",
       "      <th>2.2</th>\n",
       "      <th>1.5</th>\n",
       "      <th>1.6</th>\n",
       "      <th>y</th>\n",
       "    </tr>\n",
       "  </thead>\n",
       "  <tbody>\n",
       "    <tr>\n",
       "      <th>0</th>\n",
       "      <td>2</td>\n",
       "      <td>9</td>\n",
       "      <td>2</td>\n",
       "      <td>2</td>\n",
       "      <td>959</td>\n",
       "      <td>1</td>\n",
       "      <td>3</td>\n",
       "      <td>1</td>\n",
       "      <td>2</td>\n",
       "      <td>1</td>\n",
       "      <td>...</td>\n",
       "      <td>3</td>\n",
       "      <td>29</td>\n",
       "      <td>1</td>\n",
       "      <td>2</td>\n",
       "      <td>1</td>\n",
       "      <td>3</td>\n",
       "      <td>1</td>\n",
       "      <td>1</td>\n",
       "      <td>1</td>\n",
       "      <td>0</td>\n",
       "    </tr>\n",
       "    <tr>\n",
       "      <th>1</th>\n",
       "      <td>4</td>\n",
       "      <td>6</td>\n",
       "      <td>2</td>\n",
       "      <td>0</td>\n",
       "      <td>672</td>\n",
       "      <td>1</td>\n",
       "      <td>1</td>\n",
       "      <td>1</td>\n",
       "      <td>2</td>\n",
       "      <td>1</td>\n",
       "      <td>...</td>\n",
       "      <td>1</td>\n",
       "      <td>54</td>\n",
       "      <td>3</td>\n",
       "      <td>2</td>\n",
       "      <td>1</td>\n",
       "      <td>1</td>\n",
       "      <td>1</td>\n",
       "      <td>2</td>\n",
       "      <td>1</td>\n",
       "      <td>1</td>\n",
       "    </tr>\n",
       "    <tr>\n",
       "      <th>2</th>\n",
       "      <td>1</td>\n",
       "      <td>12</td>\n",
       "      <td>4</td>\n",
       "      <td>0</td>\n",
       "      <td>4843</td>\n",
       "      <td>1</td>\n",
       "      <td>5</td>\n",
       "      <td>3</td>\n",
       "      <td>3</td>\n",
       "      <td>2</td>\n",
       "      <td>...</td>\n",
       "      <td>2</td>\n",
       "      <td>43</td>\n",
       "      <td>3</td>\n",
       "      <td>1</td>\n",
       "      <td>2</td>\n",
       "      <td>3</td>\n",
       "      <td>1</td>\n",
       "      <td>2</td>\n",
       "      <td>1</td>\n",
       "      <td>0</td>\n",
       "    </tr>\n",
       "    <tr>\n",
       "      <th>3</th>\n",
       "      <td>1</td>\n",
       "      <td>24</td>\n",
       "      <td>4</td>\n",
       "      <td>1</td>\n",
       "      <td>2957</td>\n",
       "      <td>1</td>\n",
       "      <td>5</td>\n",
       "      <td>4</td>\n",
       "      <td>3</td>\n",
       "      <td>1</td>\n",
       "      <td>...</td>\n",
       "      <td>2</td>\n",
       "      <td>63</td>\n",
       "      <td>3</td>\n",
       "      <td>2</td>\n",
       "      <td>2</td>\n",
       "      <td>3</td>\n",
       "      <td>1</td>\n",
       "      <td>2</td>\n",
       "      <td>1</td>\n",
       "      <td>1</td>\n",
       "    </tr>\n",
       "    <tr>\n",
       "      <th>4</th>\n",
       "      <td>2</td>\n",
       "      <td>24</td>\n",
       "      <td>3</td>\n",
       "      <td>9</td>\n",
       "      <td>6967</td>\n",
       "      <td>2</td>\n",
       "      <td>4</td>\n",
       "      <td>4</td>\n",
       "      <td>3</td>\n",
       "      <td>1</td>\n",
       "      <td>...</td>\n",
       "      <td>3</td>\n",
       "      <td>36</td>\n",
       "      <td>3</td>\n",
       "      <td>1</td>\n",
       "      <td>1</td>\n",
       "      <td>4</td>\n",
       "      <td>1</td>\n",
       "      <td>2</td>\n",
       "      <td>1</td>\n",
       "      <td>1</td>\n",
       "    </tr>\n",
       "  </tbody>\n",
       "</table>\n",
       "<p>5 rows × 21 columns</p>\n",
       "</div>"
      ],
      "text/plain": [
       "   1  24  0  2  4110  1.1  5  3  3.1  1.2 ...  4.1  23  1.3  1.4  2.1  3.2  \\\n",
       "0  2   9  2  2   959    1  3  1    2    1 ...    3  29    1    2    1    3   \n",
       "1  4   6  2  0   672    1  1  1    2    1 ...    1  54    3    2    1    1   \n",
       "2  1  12  4  0  4843    1  5  3    3    2 ...    2  43    3    1    2    3   \n",
       "3  1  24  4  1  2957    1  5  4    3    1 ...    2  63    3    2    2    3   \n",
       "4  2  24  3  9  6967    2  4  4    3    1 ...    3  36    3    1    1    4   \n",
       "\n",
       "   2.2  1.5  1.6  y  \n",
       "0    1    1    1  0  \n",
       "1    1    2    1  1  \n",
       "2    1    2    1  0  \n",
       "3    1    2    1  1  \n",
       "4    1    2    1  1  \n",
       "\n",
       "[5 rows x 21 columns]"
      ]
     },
     "execution_count": 4,
     "metadata": {},
     "output_type": "execute_result"
    }
   ],
   "source": [
    "dfx.head()"
   ]
  },
  {
   "cell_type": "markdown",
   "metadata": {},
   "source": [
    "# Finding out what are categorical features"
   ]
  },
  {
   "cell_type": "code",
   "execution_count": 5,
   "metadata": {},
   "outputs": [
    {
     "data": {
      "text/plain": [
       "Index(['1', '24', '0', '2', '4110', '1.1', '5', '3', '3.1', '1.2', '4', '4.1',\n",
       "       '23', '1.3', '1.4', '2.1', '3.2', '2.2', '1.5', '1.6', 'y'],\n",
       "      dtype='object')"
      ]
     },
     "execution_count": 5,
     "metadata": {},
     "output_type": "execute_result"
    }
   ],
   "source": [
    "dfx.columns"
   ]
  },
  {
   "cell_type": "code",
   "execution_count": 6,
   "metadata": {
    "scrolled": true
   },
   "outputs": [
    {
     "name": "stdout",
     "output_type": "stream",
     "text": [
      "shape of data: (749, 21)\n",
      "uniques of column 1 :  4\n",
      "uniques of column 24 :  31\n",
      "uniques of column 0 :  5\n",
      "uniques of column 2 :  10\n",
      "uniques of column 4110 :  705\n",
      "uniques of column 1.1 :  5\n",
      "uniques of column 5 :  5\n",
      "uniques of column 3 :  4\n",
      "uniques of column 3.1 :  4\n",
      "uniques of column 1.2 :  3\n",
      "uniques of column 4 :  4\n",
      "uniques of column 4.1 :  4\n",
      "uniques of column 23 :  52\n",
      "uniques of column 1.3 :  3\n",
      "uniques of column 1.4 :  3\n",
      "uniques of column 2.1 :  4\n",
      "uniques of column 3.2 :  4\n",
      "uniques of column 2.2 :  2\n",
      "uniques of column 1.5 :  2\n",
      "uniques of column 1.6 :  2\n",
      "uniques of column y :  2\n"
     ]
    }
   ],
   "source": [
    "print('shape of data:', dfx.shape)\n",
    "for col in dfx.columns:\n",
    "    print('uniques of column', col, ': ', dfx[col].unique().shape[0])"
   ]
  },
  {
   "cell_type": "markdown",
   "metadata": {},
   "source": [
    "Thus I conclude that column 4110 is not categorical. I am not sure about column 23, but I will just keep it as non-categorical. Maybe column 23 is the age, since the number of different values and the values fit well."
   ]
  },
  {
   "cell_type": "code",
   "execution_count": 7,
   "metadata": {},
   "outputs": [],
   "source": [
    "ohc_columns = ['1', '24', '0', '2', '1.1', '5', '3', '3.1', '1.2', '4', '4.1', '1.3', '1.4', '2.1', '3.2', '2.2', '1.5', '1.6']"
   ]
  },
  {
   "cell_type": "markdown",
   "metadata": {},
   "source": [
    "# One-Hot encoding"
   ]
  },
  {
   "cell_type": "markdown",
   "metadata": {},
   "source": [
    "one-hot-encoding all columns in ohc_columns.\n",
    "\n",
    "Now we have 101 features. All but 4110 and 23 are one-hot-encoded and either 1 or zero."
   ]
  },
  {
   "cell_type": "code",
   "execution_count": 8,
   "metadata": {},
   "outputs": [],
   "source": [
    "dfx_ohc = pd.get_dummies(dfx, columns=ohc_columns)"
   ]
  },
  {
   "cell_type": "code",
   "execution_count": 9,
   "metadata": {},
   "outputs": [
    {
     "data": {
      "text/plain": [
       "(749, 102)"
      ]
     },
     "execution_count": 9,
     "metadata": {},
     "output_type": "execute_result"
    }
   ],
   "source": [
    "dfx_ohc.shape"
   ]
  },
  {
   "cell_type": "code",
   "execution_count": 10,
   "metadata": {},
   "outputs": [
    {
     "data": {
      "text/html": [
       "<div>\n",
       "<style scoped>\n",
       "    .dataframe tbody tr th:only-of-type {\n",
       "        vertical-align: middle;\n",
       "    }\n",
       "\n",
       "    .dataframe tbody tr th {\n",
       "        vertical-align: top;\n",
       "    }\n",
       "\n",
       "    .dataframe thead th {\n",
       "        text-align: right;\n",
       "    }\n",
       "</style>\n",
       "<table border=\"1\" class=\"dataframe\">\n",
       "  <thead>\n",
       "    <tr style=\"text-align: right;\">\n",
       "      <th></th>\n",
       "      <th>4110</th>\n",
       "      <th>23</th>\n",
       "      <th>y</th>\n",
       "      <th>1_1</th>\n",
       "      <th>1_2</th>\n",
       "      <th>1_3</th>\n",
       "      <th>1_4</th>\n",
       "      <th>24_4</th>\n",
       "      <th>24_5</th>\n",
       "      <th>24_6</th>\n",
       "      <th>...</th>\n",
       "      <th>3.2_1</th>\n",
       "      <th>3.2_2</th>\n",
       "      <th>3.2_3</th>\n",
       "      <th>3.2_4</th>\n",
       "      <th>2.2_1</th>\n",
       "      <th>2.2_2</th>\n",
       "      <th>1.5_1</th>\n",
       "      <th>1.5_2</th>\n",
       "      <th>1.6_1</th>\n",
       "      <th>1.6_2</th>\n",
       "    </tr>\n",
       "  </thead>\n",
       "  <tbody>\n",
       "    <tr>\n",
       "      <th>0</th>\n",
       "      <td>959</td>\n",
       "      <td>29</td>\n",
       "      <td>0</td>\n",
       "      <td>0</td>\n",
       "      <td>1</td>\n",
       "      <td>0</td>\n",
       "      <td>0</td>\n",
       "      <td>0</td>\n",
       "      <td>0</td>\n",
       "      <td>0</td>\n",
       "      <td>...</td>\n",
       "      <td>0</td>\n",
       "      <td>0</td>\n",
       "      <td>1</td>\n",
       "      <td>0</td>\n",
       "      <td>1</td>\n",
       "      <td>0</td>\n",
       "      <td>1</td>\n",
       "      <td>0</td>\n",
       "      <td>1</td>\n",
       "      <td>0</td>\n",
       "    </tr>\n",
       "    <tr>\n",
       "      <th>1</th>\n",
       "      <td>672</td>\n",
       "      <td>54</td>\n",
       "      <td>1</td>\n",
       "      <td>0</td>\n",
       "      <td>0</td>\n",
       "      <td>0</td>\n",
       "      <td>1</td>\n",
       "      <td>0</td>\n",
       "      <td>0</td>\n",
       "      <td>1</td>\n",
       "      <td>...</td>\n",
       "      <td>1</td>\n",
       "      <td>0</td>\n",
       "      <td>0</td>\n",
       "      <td>0</td>\n",
       "      <td>1</td>\n",
       "      <td>0</td>\n",
       "      <td>0</td>\n",
       "      <td>1</td>\n",
       "      <td>1</td>\n",
       "      <td>0</td>\n",
       "    </tr>\n",
       "    <tr>\n",
       "      <th>2</th>\n",
       "      <td>4843</td>\n",
       "      <td>43</td>\n",
       "      <td>0</td>\n",
       "      <td>1</td>\n",
       "      <td>0</td>\n",
       "      <td>0</td>\n",
       "      <td>0</td>\n",
       "      <td>0</td>\n",
       "      <td>0</td>\n",
       "      <td>0</td>\n",
       "      <td>...</td>\n",
       "      <td>0</td>\n",
       "      <td>0</td>\n",
       "      <td>1</td>\n",
       "      <td>0</td>\n",
       "      <td>1</td>\n",
       "      <td>0</td>\n",
       "      <td>0</td>\n",
       "      <td>1</td>\n",
       "      <td>1</td>\n",
       "      <td>0</td>\n",
       "    </tr>\n",
       "    <tr>\n",
       "      <th>3</th>\n",
       "      <td>2957</td>\n",
       "      <td>63</td>\n",
       "      <td>1</td>\n",
       "      <td>1</td>\n",
       "      <td>0</td>\n",
       "      <td>0</td>\n",
       "      <td>0</td>\n",
       "      <td>0</td>\n",
       "      <td>0</td>\n",
       "      <td>0</td>\n",
       "      <td>...</td>\n",
       "      <td>0</td>\n",
       "      <td>0</td>\n",
       "      <td>1</td>\n",
       "      <td>0</td>\n",
       "      <td>1</td>\n",
       "      <td>0</td>\n",
       "      <td>0</td>\n",
       "      <td>1</td>\n",
       "      <td>1</td>\n",
       "      <td>0</td>\n",
       "    </tr>\n",
       "    <tr>\n",
       "      <th>4</th>\n",
       "      <td>6967</td>\n",
       "      <td>36</td>\n",
       "      <td>1</td>\n",
       "      <td>0</td>\n",
       "      <td>1</td>\n",
       "      <td>0</td>\n",
       "      <td>0</td>\n",
       "      <td>0</td>\n",
       "      <td>0</td>\n",
       "      <td>0</td>\n",
       "      <td>...</td>\n",
       "      <td>0</td>\n",
       "      <td>0</td>\n",
       "      <td>0</td>\n",
       "      <td>1</td>\n",
       "      <td>1</td>\n",
       "      <td>0</td>\n",
       "      <td>0</td>\n",
       "      <td>1</td>\n",
       "      <td>1</td>\n",
       "      <td>0</td>\n",
       "    </tr>\n",
       "  </tbody>\n",
       "</table>\n",
       "<p>5 rows × 102 columns</p>\n",
       "</div>"
      ],
      "text/plain": [
       "   4110  23  y  1_1  1_2  1_3  1_4  24_4  24_5  24_6  ...    3.2_1  3.2_2  \\\n",
       "0   959  29  0    0    1    0    0     0     0     0  ...        0      0   \n",
       "1   672  54  1    0    0    0    1     0     0     1  ...        1      0   \n",
       "2  4843  43  0    1    0    0    0     0     0     0  ...        0      0   \n",
       "3  2957  63  1    1    0    0    0     0     0     0  ...        0      0   \n",
       "4  6967  36  1    0    1    0    0     0     0     0  ...        0      0   \n",
       "\n",
       "   3.2_3  3.2_4  2.2_1  2.2_2  1.5_1  1.5_2  1.6_1  1.6_2  \n",
       "0      1      0      1      0      1      0      1      0  \n",
       "1      0      0      1      0      0      1      1      0  \n",
       "2      1      0      1      0      0      1      1      0  \n",
       "3      1      0      1      0      0      1      1      0  \n",
       "4      0      1      1      0      0      1      1      0  \n",
       "\n",
       "[5 rows x 102 columns]"
      ]
     },
     "execution_count": 10,
     "metadata": {},
     "output_type": "execute_result"
    }
   ],
   "source": [
    "dfx_ohc.head()"
   ]
  },
  {
   "cell_type": "markdown",
   "metadata": {},
   "source": [
    "# Visualization"
   ]
  },
  {
   "cell_type": "code",
   "execution_count": 11,
   "metadata": {
    "scrolled": true
   },
   "outputs": [
    {
     "data": {
      "text/plain": [
       "<matplotlib.axes._subplots.AxesSubplot at 0x7ff724e19b38>"
      ]
     },
     "execution_count": 11,
     "metadata": {},
     "output_type": "execute_result"
    },
    {
     "data": {
      "image/png": "[encoded data removed]",
      "text/plain": [
       "<Figure size 432x288 with 1 Axes>"
      ]
     },
     "metadata": {
      "needs_background": "light"
     },
     "output_type": "display_data"
    }
   ],
   "source": [
    "sns.countplot(x='y', data=dfx, palette='hls')"
   ]
  },
  {
   "cell_type": "code",
   "execution_count": 12,
   "metadata": {},
   "outputs": [
    {
     "name": "stdout",
     "output_type": "stream",
     "text": [
      "1s: 0.7076101468624834\n"
     ]
    }
   ],
   "source": [
    "count_total = len(dfx)\n",
    "count_1 = len(dfx[dfx['y'] == 1])\n",
    "count_0 = len(dfx[dfx['y'] == 0])\n",
    "print('1s:', count_1 / count_total)"
   ]
  },
  {
   "cell_type": "raw",
   "metadata": {
    "scrolled": false
   },
   "source": [
    "sns.pairplot(dfx)"
   ]
  },
  {
   "cell_type": "raw",
   "metadata": {
    "scrolled": false
   },
   "source": [
    "%matplotlib inline\n",
    "for feature in dfx.columns:\n",
    "    pd.crosstab(dfx[feature],dfx.y).plot(kind='bar')\n",
    "    plt.title('')\n",
    "    plt.xlabel('Feature {}'.format(feature))\n",
    "    plt.ylabel('y')"
   ]
  },
  {
   "cell_type": "raw",
   "metadata": {
    "scrolled": false
   },
   "source": [
    "for column in dfx.columns:\n",
    "    dfx[column].hist()\n",
    "    plt.show()"
   ]
  },
  {
   "cell_type": "markdown",
   "metadata": {},
   "source": [
    "# Train Test Split, Logistic Regression"
   ]
  },
  {
   "cell_type": "code",
   "execution_count": 45,
   "metadata": {},
   "outputs": [],
   "source": [
    "train = dfx.sample(frac = 0.9, random_state = 314)\n",
    "test = dfx.drop(train.index)\n",
    "\n",
    "# not using colums  3.2, 3.1, 2.1\n",
    "use_cols = ['1', '24', '0', '2', '4110', '1.1', '5', '3', '4', '4.1',\n",
    "       '23', '1.3', '1.4', '2.1', '1.5', '1.6']\n",
    "\n",
    "trainX = train[use_cols]\n",
    "trainy = train['y']\n",
    "testX = test[use_cols]\n",
    "testy = test['y']"
   ]
  },
  {
   "cell_type": "code",
   "execution_count": 46,
   "metadata": {},
   "outputs": [
    {
     "name": "stdout",
     "output_type": "stream",
     "text": [
      "Optimization terminated successfully.\n",
      "         Current function value: 0.494056\n",
      "         Iterations 6\n",
      "                         Results: Logit\n",
      "=================================================================\n",
      "Model:              Logit            Pseudo R-squared: 0.177     \n",
      "Dependent Variable: y                AIC:              697.9872  \n",
      "Date:               2018-12-23 18:57 BIC:              770.1988  \n",
      "No. Observations:   674              Log-Likelihood:   -332.99   \n",
      "Df Model:           15               LL-Null:          -404.54   \n",
      "Df Residuals:       658              LLR p-value:      5.6632e-23\n",
      "Converged:          1.0000           Scale:            1.0000    \n",
      "No. Iterations:     6.0000                                       \n",
      "-------------------------------------------------------------------\n",
      "           Coef.    Std.Err.      z      P>|z|     [0.025    0.975]\n",
      "-------------------------------------------------------------------\n",
      "1          0.4821     0.0815    5.9135   0.0000    0.3223    0.6419\n",
      "24        -0.0227     0.0106   -2.1352   0.0327   -0.0435   -0.0019\n",
      "0          0.3523     0.1000    3.5243   0.0004    0.1564    0.5482\n",
      "2          0.0313     0.0365    0.8581   0.3909   -0.0402    0.1028\n",
      "4110      -0.0001     0.0000   -1.9242   0.0543   -0.0002    0.0000\n",
      "1.1        0.2821     0.0742    3.8002   0.0001    0.1366    0.4276\n",
      "5          0.1005     0.0840    1.1962   0.2316   -0.0642    0.2652\n",
      "3         -0.2830     0.0970   -2.9171   0.0035   -0.4731   -0.0928\n",
      "4         -0.1455     0.0922   -1.5772   0.1147   -0.3262    0.0353\n",
      "4.1       -0.2427     0.1059   -2.2912   0.0220   -0.4503   -0.0351\n",
      "23         0.0018     0.0097    0.1904   0.8490   -0.0171    0.0208\n",
      "1.3        0.0858     0.1217    0.7049   0.4809   -0.1527    0.3242\n",
      "1.4        0.2463     0.1863    1.3223   0.1861   -0.1188    0.6114\n",
      "2.1       -0.1935     0.1798   -1.0762   0.2819   -0.5459    0.1589\n",
      "1.5        0.2700     0.2113    1.2777   0.2014   -0.1442    0.6842\n",
      "1.6       -0.2209     0.4091   -0.5400   0.5892   -1.0227    0.5808\n",
      "=================================================================\n",
      "\n"
     ]
    }
   ],
   "source": [
    "logit_model = sm.Logit(trainy,trainX)\n",
    "logit_fit = logit_model.fit()\n",
    "print(logit_fit.summary2())"
   ]
  },
  {
   "cell_type": "markdown",
   "metadata": {},
   "source": [
    "Drop all with large P>|z|:\n",
    "\n",
    "3.2, 3.1, 1.2"
   ]
  },
  {
   "cell_type": "code",
   "execution_count": 34,
   "metadata": {},
   "outputs": [
    {
     "data": {
      "text/plain": [
       "LogisticRegression(C=1.0, class_weight=None, dual=False, fit_intercept=True,\n",
       "          intercept_scaling=1, max_iter=200, multi_class='warn',\n",
       "          n_jobs=None, penalty='l2', random_state=None, solver='lbfgs',\n",
       "          tol=0.0001, verbose=0, warm_start=False)"
      ]
     },
     "execution_count": 34,
     "metadata": {},
     "output_type": "execute_result"
    }
   ],
   "source": [
    "logreg = LogisticRegression(C = 1., penalty = \"l2\", solver='lbfgs', max_iter=200)\n",
    "logreg.fit(trainX, trainy)"
   ]
  },
  {
   "cell_type": "code",
   "execution_count": 47,
   "metadata": {},
   "outputs": [
    {
     "data": {
      "text/plain": [
       "0.7733333333333333"
      ]
     },
     "execution_count": 47,
     "metadata": {},
     "output_type": "execute_result"
    }
   ],
   "source": [
    "predy = logreg.predict(testX)\n",
    "logreg.score(testX, testy)"
   ]
  },
  {
   "cell_type": "markdown",
   "metadata": {},
   "source": [
    "# Confusion Matrix"
   ]
  },
  {
   "cell_type": "code",
   "execution_count": 37,
   "metadata": {},
   "outputs": [
    {
     "name": "stdout",
     "output_type": "stream",
     "text": [
      "[[11 14]\n",
      " [ 3 47]]\n"
     ]
    }
   ],
   "source": [
    "cf_matrix = confusion_matrix(testy, predy)\n",
    "print(cf_matrix)"
   ]
  },
  {
   "cell_type": "markdown",
   "metadata": {},
   "source": [
    "# Classification Report"
   ]
  },
  {
   "cell_type": "code",
   "execution_count": 38,
   "metadata": {},
   "outputs": [
    {
     "name": "stdout",
     "output_type": "stream",
     "text": [
      "              precision    recall  f1-score   support\n",
      "\n",
      "           0       0.79      0.44      0.56        25\n",
      "           1       0.77      0.94      0.85        50\n",
      "\n",
      "   micro avg       0.77      0.77      0.77        75\n",
      "   macro avg       0.78      0.69      0.71        75\n",
      "weighted avg       0.78      0.77      0.75        75\n",
      "\n"
     ]
    }
   ],
   "source": [
    "print(classification_report(testy, predy))"
   ]
  },
  {
   "cell_type": "markdown",
   "metadata": {},
   "source": [
    "# Receiver operating characteristic"
   ]
  },
  {
   "cell_type": "code",
   "execution_count": 39,
   "metadata": {},
   "outputs": [
    {
     "data": {
      "image/png": "[encoded data removed]",
      "text/plain": [
       "<Figure size 432x288 with 1 Axes>"
      ]
     },
     "metadata": {
      "needs_background": "light"
     },
     "output_type": "display_data"
    }
   ],
   "source": [
    "logit_roc_auc = roc_auc_score(testy, logreg.predict(testX))\n",
    "fpr, tpr, thresholds = roc_curve(testy, logreg.predict_proba(testX)[:,1])\n",
    "plt.figure()\n",
    "plt.plot(fpr, tpr, label='Logistic Regression (area = %0.2f)' % logit_roc_auc)\n",
    "plt.plot([0, 1], [0, 1],'r--')\n",
    "plt.xlim([0.0, 1.0])\n",
    "plt.ylim([0.0, 1.05])\n",
    "plt.xlabel('False Positive Rate')\n",
    "plt.ylabel('True Positive Rate')\n",
    "plt.title('Receiver operating characteristic')\n",
    "plt.legend(loc=\"lower right\")\n",
    "plt.savefig('Log_ROC')\n",
    "plt.show()\n"
   ]
  },
  {
   "cell_type": "markdown",
   "metadata": {},
   "source": [
    "# Threshold, Rates\n",
    "\n",
    "https://stackoverflow.com/questions/28716241/controlling-the-threshold-in-logistic-regression-in-scikit-learn\n",
    "\n",
    "https://en.wikipedia.org/wiki/Confusion_matrix"
   ]
  },
  {
   "cell_type": "markdown",
   "metadata": {},
   "source": [
    "Essentially we want few false positives (top right of confusion matrix),\n",
    "but no zero, because this would mean always predicting 0."
   ]
  },
  {
   "cell_type": "code",
   "execution_count": 40,
   "metadata": {},
   "outputs": [],
   "source": [
    "def fd_rate(cf_matrix):\n",
    "    # FP / (FP + TP)\n",
    "    return cf_matrix[0][1] / (cf_matrix[0][1] + cf_matrix[0][0])\n",
    "\n",
    "def tp_rate(cf_matrix):\n",
    "    # TP / (FP + FN)\n",
    "    return cf_matrix[0][0] / (cf_matrix[0][0] + cf_matrix[1][0])\n",
    "\n",
    "def fo_rate(cf_matrix):\n",
    "    # FN / (FN + TN)\n",
    "    return cf_matrix[1][0] / (cf_matrix[1][0] + cf_matrix[1][1])\n",
    "\n",
    "def specificity_rate(cf_matrix):\n",
    "    # TN / (FP + TN)\n",
    "    return cf_matrix[1][1] / (cf_matrix[0][1] + cf_matrix[1][1])\n",
    "\n",
    "def precision_rate(cf_matrix):\n",
    "    # TP / (TP + FP)\n",
    "    return cf_matrix[0][0] / (cf_matrix[0][0] + cf_matrix[0][1])\n",
    "\n",
    "def error_rate(cf_matrix):\n",
    "    # (FP + FN) / ALL\n",
    "    return (cf_matrix[0][1] + cf_matrix[1][0]) / (cf_matrix[0][0] + cf_matrix[0][1] + cf_matrix[1][0] + cf_matrix[1][1])"
   ]
  },
  {
   "cell_type": "code",
   "execution_count": 41,
   "metadata": {
    "scrolled": true
   },
   "outputs": [
    {
     "name": "stdout",
     "output_type": "stream",
     "text": [
      "\n",
      "******** For threshold = 0.65 ******\n",
      "Our testing accuracy is 0.7866666666666666\n",
      "False discovery rate: 0.28\n",
      "Precision rate: 0.72\n",
      "Error rate: 0.21333333333333335\n",
      "True positive rate: 0.6666666666666666\n",
      "False omission rate: 0.18\n",
      "Specificity rate: 0.8541666666666666\n",
      "[[18  7]\n",
      " [ 9 41]]\n",
      "\n",
      "******** For threshold = 0.6571428571428571 ******\n",
      "Our testing accuracy is 0.8\n",
      "False discovery rate: 0.24\n",
      "Precision rate: 0.76\n",
      "Error rate: 0.2\n",
      "True positive rate: 0.6785714285714286\n",
      "False omission rate: 0.18\n",
      "Specificity rate: 0.8723404255319149\n",
      "[[19  6]\n",
      " [ 9 41]]\n",
      "\n",
      "******** For threshold = 0.6642857142857143 ******\n",
      "Our testing accuracy is 0.7866666666666666\n",
      "False discovery rate: 0.24\n",
      "Precision rate: 0.76\n",
      "Error rate: 0.21333333333333335\n",
      "True positive rate: 0.6551724137931034\n",
      "False omission rate: 0.2\n",
      "Specificity rate: 0.8695652173913043\n",
      "[[19  6]\n",
      " [10 40]]\n",
      "\n",
      "******** For threshold = 0.6714285714285715 ******\n",
      "Our testing accuracy is 0.7733333333333333\n",
      "False discovery rate: 0.24\n",
      "Precision rate: 0.76\n",
      "Error rate: 0.22666666666666666\n",
      "True positive rate: 0.6333333333333333\n",
      "False omission rate: 0.22\n",
      "Specificity rate: 0.8666666666666667\n",
      "[[19  6]\n",
      " [11 39]]\n",
      "\n",
      "******** For threshold = 0.6785714285714286 ******\n",
      "Our testing accuracy is 0.7866666666666666\n",
      "False discovery rate: 0.2\n",
      "Precision rate: 0.8\n",
      "Error rate: 0.21333333333333335\n",
      "True positive rate: 0.6451612903225806\n",
      "False omission rate: 0.22\n",
      "Specificity rate: 0.8863636363636364\n",
      "[[20  5]\n",
      " [11 39]]\n",
      "\n",
      "******** For threshold = 0.6857142857142857 ******\n",
      "Our testing accuracy is 0.7866666666666666\n",
      "False discovery rate: 0.2\n",
      "Precision rate: 0.8\n",
      "Error rate: 0.21333333333333335\n",
      "True positive rate: 0.6451612903225806\n",
      "False omission rate: 0.22\n",
      "Specificity rate: 0.8863636363636364\n",
      "[[20  5]\n",
      " [11 39]]\n",
      "\n",
      "******** For threshold = 0.6928571428571428 ******\n",
      "Our testing accuracy is 0.7866666666666666\n",
      "False discovery rate: 0.2\n",
      "Precision rate: 0.8\n",
      "Error rate: 0.21333333333333335\n",
      "True positive rate: 0.6451612903225806\n",
      "False omission rate: 0.22\n",
      "Specificity rate: 0.8863636363636364\n",
      "[[20  5]\n",
      " [11 39]]\n",
      "\n",
      "******** For threshold = 0.7 ******\n",
      "Our testing accuracy is 0.7866666666666666\n",
      "False discovery rate: 0.2\n",
      "Precision rate: 0.8\n",
      "Error rate: 0.21333333333333335\n",
      "True positive rate: 0.6451612903225806\n",
      "False omission rate: 0.22\n",
      "Specificity rate: 0.8863636363636364\n",
      "[[20  5]\n",
      " [11 39]]\n",
      "\n",
      "******** For threshold = 0.7071428571428572 ******\n",
      "Our testing accuracy is 0.8\n",
      "False discovery rate: 0.16\n",
      "Precision rate: 0.84\n",
      "Error rate: 0.2\n",
      "True positive rate: 0.65625\n",
      "False omission rate: 0.22\n",
      "Specificity rate: 0.9069767441860465\n",
      "[[21  4]\n",
      " [11 39]]\n",
      "\n",
      "******** For threshold = 0.7142857142857143 ******\n",
      "Our testing accuracy is 0.8133333333333334\n",
      "False discovery rate: 0.12\n",
      "Precision rate: 0.88\n",
      "Error rate: 0.18666666666666668\n",
      "True positive rate: 0.6666666666666666\n",
      "False omission rate: 0.22\n",
      "Specificity rate: 0.9285714285714286\n",
      "[[22  3]\n",
      " [11 39]]\n",
      "\n",
      "******** For threshold = 0.7214285714285714 ******\n",
      "Our testing accuracy is 0.8133333333333334\n",
      "False discovery rate: 0.12\n",
      "Precision rate: 0.88\n",
      "Error rate: 0.18666666666666668\n",
      "True positive rate: 0.6666666666666666\n",
      "False omission rate: 0.22\n",
      "Specificity rate: 0.9285714285714286\n",
      "[[22  3]\n",
      " [11 39]]\n",
      "\n",
      "******** For threshold = 0.7285714285714285 ******\n",
      "Our testing accuracy is 0.8\n",
      "False discovery rate: 0.12\n",
      "Precision rate: 0.88\n",
      "Error rate: 0.2\n",
      "True positive rate: 0.6470588235294118\n",
      "False omission rate: 0.24\n",
      "Specificity rate: 0.926829268292683\n",
      "[[22  3]\n",
      " [12 38]]\n",
      "\n",
      "******** For threshold = 0.7357142857142858 ******\n",
      "Our testing accuracy is 0.8\n",
      "False discovery rate: 0.12\n",
      "Precision rate: 0.88\n",
      "Error rate: 0.2\n",
      "True positive rate: 0.6470588235294118\n",
      "False omission rate: 0.24\n",
      "Specificity rate: 0.926829268292683\n",
      "[[22  3]\n",
      " [12 38]]\n",
      "\n",
      "******** For threshold = 0.7428571428571429 ******\n",
      "Our testing accuracy is 0.8133333333333334\n",
      "False discovery rate: 0.04\n",
      "Precision rate: 0.96\n",
      "Error rate: 0.18666666666666668\n",
      "True positive rate: 0.6486486486486487\n",
      "False omission rate: 0.26\n",
      "Specificity rate: 0.9736842105263158\n",
      "[[24  1]\n",
      " [13 37]]\n",
      "\n",
      "******** For threshold = 0.75 ******\n",
      "Our testing accuracy is 0.7866666666666666\n",
      "False discovery rate: 0.04\n",
      "Precision rate: 0.96\n",
      "Error rate: 0.21333333333333335\n",
      "True positive rate: 0.6153846153846154\n",
      "False omission rate: 0.3\n",
      "Specificity rate: 0.9722222222222222\n",
      "[[24  1]\n",
      " [15 35]]\n"
     ]
    },
    {
     "name": "stderr",
     "output_type": "stream",
     "text": [
      "/home/mknipfer/.local/lib/python3.7/site-packages/ipykernel_launcher.py:6: FutureWarning: Method .as_matrix will be removed in a future version. Use .values instead.\n",
      "  \n",
      "/home/mknipfer/.local/lib/python3.7/site-packages/ipykernel_launcher.py:7: FutureWarning: Method .as_matrix will be removed in a future version. Use .values instead.\n",
      "  import sys\n",
      "/home/mknipfer/.local/lib/python3.7/site-packages/ipykernel_launcher.py:10: FutureWarning: Method .as_matrix will be removed in a future version. Use .values instead.\n",
      "  # Remove the CWD from sys.path while we load stuff.\n",
      "/home/mknipfer/.local/lib/python3.7/site-packages/ipykernel_launcher.py:11: FutureWarning: Method .as_matrix will be removed in a future version. Use .values instead.\n",
      "  # This is added back by InteractiveShellApp.init_path()\n"
     ]
    }
   ],
   "source": [
    "pred_proba_df = pd.DataFrame(logreg.predict_proba(testX))\n",
    "threshold_list = np.linspace(0.65, 0.75, num=15)\n",
    "for i in threshold_list:\n",
    "    print ('\\n******** For threshold = {} ******'.format(i))\n",
    "    Y_test_pred = pred_proba_df.applymap(lambda x: 1 if x>i else 0)\n",
    "    test_accuracy = metrics.accuracy_score(testy.as_matrix().reshape(testy.as_matrix().size,1),\n",
    "                                           Y_test_pred.iloc[:,1].as_matrix().reshape(Y_test_pred.iloc[:,1].as_matrix().size,1))\n",
    "    print('Our testing accuracy is {}'.format(test_accuracy))\n",
    "\n",
    "    cf_matrix = confusion_matrix(testy.as_matrix().reshape(testy.as_matrix().size,1),\n",
    "                           Y_test_pred.iloc[:,1].as_matrix().reshape(Y_test_pred.iloc[:,1].as_matrix().size,1))\n",
    "    print('False discovery rate:', fd_rate(cf_matrix))\n",
    "    print('Precision rate:', precision_rate(cf_matrix))\n",
    "    print('Error rate:', error_rate(cf_matrix))\n",
    "    print('True positive rate:', tp_rate(cf_matrix))\n",
    "    print('False omission rate:', fo_rate(cf_matrix))\n",
    "    print('Specificity rate:', specificity_rate(cf_matrix))\n",
    "    print(cf_matrix)\n",
    "    # seems like 0.73 is a good threshold?"
   ]
  },
  {
   "cell_type": "code",
   "execution_count": 42,
   "metadata": {},
   "outputs": [
    {
     "name": "stderr",
     "output_type": "stream",
     "text": [
      "/home/mknipfer/.local/lib/python3.7/site-packages/ipykernel_launcher.py:11: FutureWarning: Method .as_matrix will be removed in a future version. Use .values instead.\n",
      "  # This is added back by InteractiveShellApp.init_path()\n",
      "/home/mknipfer/.local/lib/python3.7/site-packages/ipykernel_launcher.py:12: FutureWarning: Method .as_matrix will be removed in a future version. Use .values instead.\n",
      "  if sys.path[0] == '':\n",
      "/home/mknipfer/.local/lib/python3.7/site-packages/ipykernel_launcher.py:13: FutureWarning: Method .as_matrix will be removed in a future version. Use .values instead.\n",
      "  del sys.path[0]\n",
      "/home/mknipfer/.local/lib/python3.7/site-packages/ipykernel_launcher.py:14: FutureWarning: Method .as_matrix will be removed in a future version. Use .values instead.\n",
      "  \n"
     ]
    }
   ],
   "source": [
    "pred_proba_df = pd.DataFrame(logreg.predict_proba(testX))\n",
    "threshold_list = np.linspace(0.4, 0.8, num=70)\n",
    "fd_rate_array = []\n",
    "precision_rate_array = []\n",
    "error_rate_array = []\n",
    "tp_rate_array = []\n",
    "fo_rate_array = []\n",
    "specificity_rate_array = []\n",
    "for i in threshold_list:\n",
    "    Y_test_pred = pred_proba_df.applymap(lambda x: 1 if x>i else 0)\n",
    "    test_accuracy = metrics.accuracy_score(testy.as_matrix().reshape(testy.as_matrix().size,1),\n",
    "                                           Y_test_pred.iloc[:,1].as_matrix().reshape(Y_test_pred.iloc[:,1].as_matrix().size,1))\n",
    "    cf_matrix = confusion_matrix(testy.as_matrix().reshape(testy.as_matrix().size,1),\n",
    "                           Y_test_pred.iloc[:,1].as_matrix().reshape(Y_test_pred.iloc[:,1].as_matrix().size,1))\n",
    "    fd_rate_array.append(fd_rate(cf_matrix))\n",
    "    precision_rate_array.append(precision_rate(cf_matrix))\n",
    "    error_rate_array.append(error_rate(cf_matrix))\n",
    "    tp_rate_array.append(tp_rate(cf_matrix))\n",
    "    fo_rate_array.append(fo_rate(cf_matrix))\n",
    "    specificity_rate_array.append(specificity_rate(cf_matrix))\n"
   ]
  },
  {
   "cell_type": "code",
   "execution_count": 44,
   "metadata": {
    "scrolled": true
   },
   "outputs": [
    {
     "data": {
      "text/plain": [
       "Text(0, 0.5, 'rate')"
      ]
     },
     "execution_count": 44,
     "metadata": {},
     "output_type": "execute_result"
    },
    {
     "data": {
      "image/png": "[encoded data removed]",
      "text/plain": [
       "<Figure size 432x288 with 1 Axes>"
      ]
     },
     "metadata": {
      "needs_background": "light"
     },
     "output_type": "display_data"
    }
   ],
   "source": [
    "plt.plot(threshold_list, fd_rate_array, label = 'false discovery rate')\n",
    "plt.plot(threshold_list, precision_rate_array, label = 'precision rate')\n",
    "plt.plot(threshold_list, error_rate_array, label = 'error rate')\n",
    "plt.plot(threshold_list, fo_rate_array, label = 'false omission rate')\n",
    "plt.plot(threshold_list, tp_rate_array, label = 'true positive rate')\n",
    "plt.plot(threshold_list, specificity_rate_array, label = 'specificity rate')\n",
    "plt.legend(loc=2)\n",
    "plt.xlabel('threshold')\n",
    "plt.ylabel('rate')"
   ]
  },
  {
   "cell_type": "markdown",
   "metadata": {},
   "source": [
    "# Improvements"
   ]
  },
  {
   "cell_type": "markdown",
   "metadata": {},
   "source": [
    "# Over-sampling using SMOTE"
   ]
  },
  {
   "cell_type": "code",
   "execution_count": 69,
   "metadata": {},
   "outputs": [
    {
     "name": "stdout",
     "output_type": "stream",
     "text": [
      "length of oversampled data is  956\n",
      "Number of 0 in oversampled data 478\n",
      "Number of 1 478\n",
      "Proportion of 0 data in oversampled data is  0.5\n",
      "Proportion of 1 data in oversampled data is  0.5\n"
     ]
    },
    {
     "name": "stderr",
     "output_type": "stream",
     "text": [
      "/usr/lib/python3.7/site-packages/sklearn/utils/validation.py:761: DataConversionWarning: A column-vector y was passed when a 1d array was expected. Please change the shape of y to (n_samples, ), for example using ravel().\n",
      "  y = column_or_1d(y, warn=True)\n"
     ]
    }
   ],
   "source": [
    "X = dfx.loc[:, train.columns != 'y']\n",
    "y = dfx.loc[:, train.columns == 'y']\n",
    "\n",
    "\n",
    "os = SMOTE(random_state=0)\n",
    "X_train, X_test, y_train, y_test = train_test_split(X, y, test_size=0.1, random_state=0)\n",
    "columns = X_train.columns\n",
    "\n",
    "os_data_X,os_data_y=os.fit_sample(X_train, y_train)\n",
    "os_data_X = pd.DataFrame(data=os_data_X,columns=columns )\n",
    "os_data_y= pd.DataFrame(data=os_data_y,columns=['y'])\n",
    "# we can Check the numbers of our data\n",
    "print(\"length of oversampled data is \",len(os_data_X))\n",
    "print(\"Number of 0 in oversampled data\",len(os_data_y[os_data_y['y']==0]))\n",
    "print(\"Number of 1\",len(os_data_y[os_data_y['y']==1]))\n",
    "print(\"Proportion of 0 data in oversampled data is \",len(os_data_y[os_data_y['y']==0])/len(os_data_X))\n",
    "print(\"Proportion of 1 data in oversampled data is \",len(os_data_y[os_data_y['y']==1])/len(os_data_X))"
   ]
  },
  {
   "cell_type": "code",
   "execution_count": 54,
   "metadata": {},
   "outputs": [
    {
     "data": {
      "text/plain": [
       "(749, 21)"
      ]
     },
     "execution_count": 54,
     "metadata": {},
     "output_type": "execute_result"
    }
   ],
   "source": [
    "dfx.shape"
   ]
  },
  {
   "cell_type": "code",
   "execution_count": 59,
   "metadata": {},
   "outputs": [
    {
     "data": {
      "text/html": [
       "<div>\n",
       "<style scoped>\n",
       "    .dataframe tbody tr th:only-of-type {\n",
       "        vertical-align: middle;\n",
       "    }\n",
       "\n",
       "    .dataframe tbody tr th {\n",
       "        vertical-align: top;\n",
       "    }\n",
       "\n",
       "    .dataframe thead th {\n",
       "        text-align: right;\n",
       "    }\n",
       "</style>\n",
       "<table border=\"1\" class=\"dataframe\">\n",
       "  <thead>\n",
       "    <tr style=\"text-align: right;\">\n",
       "      <th></th>\n",
       "      <th>0</th>\n",
       "      <th>1</th>\n",
       "      <th>2</th>\n",
       "      <th>3</th>\n",
       "      <th>4</th>\n",
       "      <th>5</th>\n",
       "      <th>6</th>\n",
       "      <th>7</th>\n",
       "      <th>8</th>\n",
       "      <th>9</th>\n",
       "      <th>...</th>\n",
       "      <th>739</th>\n",
       "      <th>740</th>\n",
       "      <th>741</th>\n",
       "      <th>742</th>\n",
       "      <th>743</th>\n",
       "      <th>744</th>\n",
       "      <th>745</th>\n",
       "      <th>746</th>\n",
       "      <th>747</th>\n",
       "      <th>748</th>\n",
       "    </tr>\n",
       "  </thead>\n",
       "  <tbody>\n",
       "    <tr>\n",
       "      <th>y</th>\n",
       "      <td>0</td>\n",
       "      <td>1</td>\n",
       "      <td>0</td>\n",
       "      <td>1</td>\n",
       "      <td>1</td>\n",
       "      <td>1</td>\n",
       "      <td>1</td>\n",
       "      <td>1</td>\n",
       "      <td>1</td>\n",
       "      <td>1</td>\n",
       "      <td>...</td>\n",
       "      <td>0</td>\n",
       "      <td>1</td>\n",
       "      <td>1</td>\n",
       "      <td>0</td>\n",
       "      <td>1</td>\n",
       "      <td>1</td>\n",
       "      <td>1</td>\n",
       "      <td>1</td>\n",
       "      <td>0</td>\n",
       "      <td>1</td>\n",
       "    </tr>\n",
       "  </tbody>\n",
       "</table>\n",
       "<p>1 rows × 749 columns</p>\n",
       "</div>"
      ],
      "text/plain": [
       "   0    1    2    3    4    5    6    7    8    9   ...   739  740  741  742  \\\n",
       "y    0    1    0    1    1    1    1    1    1    1 ...     0    1    1    0   \n",
       "\n",
       "   743  744  745  746  747  748  \n",
       "y    1    1    1    1    0    1  \n",
       "\n",
       "[1 rows x 749 columns]"
      ]
     },
     "execution_count": 59,
     "metadata": {},
     "output_type": "execute_result"
    }
   ],
   "source": [
    "y.T"
   ]
  },
  {
   "cell_type": "code",
   "execution_count": null,
   "metadata": {},
   "outputs": [],
   "source": []
  }
 ],
 "metadata": {
  "kernelspec": {
   "display_name": "Python 3",
   "language": "python",
   "name": "python3"
  },
  "language_info": {
   "codemirror_mode": {
    "name": "ipython",
    "version": 3
   },
   "file_extension": ".py",
   "mimetype": "text/x-python",
   "name": "python",
   "nbconvert_exporter": "python",
   "pygments_lexer": "ipython3",
   "version": "3.7.1"
  }
 },
 "nbformat": 4,
 "nbformat_minor": 2
}
