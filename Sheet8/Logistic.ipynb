{
 "cells": [
  {
   "cell_type": "markdown",
   "metadata": {},
   "source": [
    "# Machine Learning 1 Competition Sheet\n",
    "Marco Knipfer"
   ]
  },
  {
   "cell_type": "code",
   "execution_count": 1,
   "metadata": {},
   "outputs": [],
   "source": [
    "import pandas as pd\n",
    "import seaborn as sns\n",
    "import numpy as np\n",
    "from sklearn.preprocessing import OneHotEncoder\n",
    "import matplotlib.pyplot as plt\n",
    "from sklearn.model_selection import train_test_split\n",
    "import statsmodels.api as sm\n",
    "from sklearn.linear_model import LogisticRegression\n",
    "from sklearn import metrics\n",
    "from sklearn.metrics import classification_report\n",
    "from sklearn.metrics import confusion_matrix\n",
    "from sklearn.metrics import roc_auc_score\n",
    "from sklearn.metrics import roc_curve\n",
    "from imblearn.over_sampling import SMOTE\n",
    "from joblib import dump, load\n",
    "from sklearn.decomposition import PCA"
   ]
  },
  {
   "cell_type": "markdown",
   "metadata": {},
   "source": [
    "Heavily inspred by https://towardsdatascience.com/building-a-logistic-regression-in-python-step-by-step-becd4d56c9c8"
   ]
  },
  {
   "cell_type": "code",
   "execution_count": 2,
   "metadata": {},
   "outputs": [],
   "source": [
    "filenameX = 'trainX.dat'\n",
    "filenamet = 'traint.dat'\n",
    "dfx = pd.read_csv(filenameX, sep = '\\t', header = None)\n",
    "dft = pd.read_csv(filenamet, sep = '\\t', header = None)\n",
    "dfx['y'] = dft[0]"
   ]
  },
  {
   "cell_type": "code",
   "execution_count": 3,
   "metadata": {},
   "outputs": [
    {
     "data": {
      "text/html": [
       "<div>\n",
       "<style scoped>\n",
       "    .dataframe tbody tr th:only-of-type {\n",
       "        vertical-align: middle;\n",
       "    }\n",
       "\n",
       "    .dataframe tbody tr th {\n",
       "        vertical-align: top;\n",
       "    }\n",
       "\n",
       "    .dataframe thead th {\n",
       "        text-align: right;\n",
       "    }\n",
       "</style>\n",
       "<table border=\"1\" class=\"dataframe\">\n",
       "  <thead>\n",
       "    <tr style=\"text-align: right;\">\n",
       "      <th></th>\n",
       "      <th>0</th>\n",
       "      <th>1</th>\n",
       "      <th>2</th>\n",
       "      <th>3</th>\n",
       "      <th>4</th>\n",
       "      <th>5</th>\n",
       "      <th>6</th>\n",
       "      <th>7</th>\n",
       "      <th>8</th>\n",
       "      <th>9</th>\n",
       "      <th>...</th>\n",
       "      <th>11</th>\n",
       "      <th>12</th>\n",
       "      <th>13</th>\n",
       "      <th>14</th>\n",
       "      <th>15</th>\n",
       "      <th>16</th>\n",
       "      <th>17</th>\n",
       "      <th>18</th>\n",
       "      <th>19</th>\n",
       "      <th>y</th>\n",
       "    </tr>\n",
       "  </thead>\n",
       "  <tbody>\n",
       "    <tr>\n",
       "      <th>count</th>\n",
       "      <td>750.000000</td>\n",
       "      <td>750.000000</td>\n",
       "      <td>750.000000</td>\n",
       "      <td>750.000000</td>\n",
       "      <td>750.000000</td>\n",
       "      <td>750.000000</td>\n",
       "      <td>750.000000</td>\n",
       "      <td>750.000000</td>\n",
       "      <td>750.000000</td>\n",
       "      <td>750.000000</td>\n",
       "      <td>...</td>\n",
       "      <td>750.000000</td>\n",
       "      <td>750.000000</td>\n",
       "      <td>750.000000</td>\n",
       "      <td>750.000000</td>\n",
       "      <td>750.000000</td>\n",
       "      <td>750.000000</td>\n",
       "      <td>750.000000</td>\n",
       "      <td>750.000000</td>\n",
       "      <td>750.000000</td>\n",
       "      <td>750.000000</td>\n",
       "    </tr>\n",
       "    <tr>\n",
       "      <th>mean</th>\n",
       "      <td>2.565333</td>\n",
       "      <td>20.856000</td>\n",
       "      <td>2.520000</td>\n",
       "      <td>2.869333</td>\n",
       "      <td>3233.025333</td>\n",
       "      <td>2.054667</td>\n",
       "      <td>3.357333</td>\n",
       "      <td>2.993333</td>\n",
       "      <td>2.669333</td>\n",
       "      <td>1.154667</td>\n",
       "      <td>...</td>\n",
       "      <td>2.358667</td>\n",
       "      <td>35.317333</td>\n",
       "      <td>2.658667</td>\n",
       "      <td>1.921333</td>\n",
       "      <td>1.409333</td>\n",
       "      <td>2.900000</td>\n",
       "      <td>1.148000</td>\n",
       "      <td>1.401333</td>\n",
       "      <td>1.033333</td>\n",
       "      <td>0.706667</td>\n",
       "    </tr>\n",
       "    <tr>\n",
       "      <th>std</th>\n",
       "      <td>1.254258</td>\n",
       "      <td>11.958453</td>\n",
       "      <td>1.083435</td>\n",
       "      <td>2.741462</td>\n",
       "      <td>2813.435483</td>\n",
       "      <td>1.542785</td>\n",
       "      <td>1.205370</td>\n",
       "      <td>1.106460</td>\n",
       "      <td>0.693278</td>\n",
       "      <td>0.493020</td>\n",
       "      <td>...</td>\n",
       "      <td>1.047929</td>\n",
       "      <td>11.467052</td>\n",
       "      <td>0.718457</td>\n",
       "      <td>0.537460</td>\n",
       "      <td>0.574648</td>\n",
       "      <td>0.649021</td>\n",
       "      <td>0.355337</td>\n",
       "      <td>0.490495</td>\n",
       "      <td>0.179625</td>\n",
       "      <td>0.455594</td>\n",
       "    </tr>\n",
       "    <tr>\n",
       "      <th>min</th>\n",
       "      <td>1.000000</td>\n",
       "      <td>4.000000</td>\n",
       "      <td>0.000000</td>\n",
       "      <td>0.000000</td>\n",
       "      <td>250.000000</td>\n",
       "      <td>1.000000</td>\n",
       "      <td>1.000000</td>\n",
       "      <td>1.000000</td>\n",
       "      <td>1.000000</td>\n",
       "      <td>1.000000</td>\n",
       "      <td>...</td>\n",
       "      <td>1.000000</td>\n",
       "      <td>19.000000</td>\n",
       "      <td>1.000000</td>\n",
       "      <td>1.000000</td>\n",
       "      <td>1.000000</td>\n",
       "      <td>1.000000</td>\n",
       "      <td>1.000000</td>\n",
       "      <td>1.000000</td>\n",
       "      <td>1.000000</td>\n",
       "      <td>0.000000</td>\n",
       "    </tr>\n",
       "    <tr>\n",
       "      <th>25%</th>\n",
       "      <td>1.000000</td>\n",
       "      <td>12.000000</td>\n",
       "      <td>2.000000</td>\n",
       "      <td>1.000000</td>\n",
       "      <td>1356.500000</td>\n",
       "      <td>1.000000</td>\n",
       "      <td>3.000000</td>\n",
       "      <td>2.000000</td>\n",
       "      <td>2.000000</td>\n",
       "      <td>1.000000</td>\n",
       "      <td>...</td>\n",
       "      <td>1.000000</td>\n",
       "      <td>26.250000</td>\n",
       "      <td>3.000000</td>\n",
       "      <td>2.000000</td>\n",
       "      <td>1.000000</td>\n",
       "      <td>3.000000</td>\n",
       "      <td>1.000000</td>\n",
       "      <td>1.000000</td>\n",
       "      <td>1.000000</td>\n",
       "      <td>0.000000</td>\n",
       "    </tr>\n",
       "    <tr>\n",
       "      <th>50%</th>\n",
       "      <td>2.000000</td>\n",
       "      <td>18.000000</td>\n",
       "      <td>2.000000</td>\n",
       "      <td>2.000000</td>\n",
       "      <td>2295.500000</td>\n",
       "      <td>1.000000</td>\n",
       "      <td>3.000000</td>\n",
       "      <td>3.000000</td>\n",
       "      <td>3.000000</td>\n",
       "      <td>1.000000</td>\n",
       "      <td>...</td>\n",
       "      <td>2.000000</td>\n",
       "      <td>33.000000</td>\n",
       "      <td>3.000000</td>\n",
       "      <td>2.000000</td>\n",
       "      <td>1.000000</td>\n",
       "      <td>3.000000</td>\n",
       "      <td>1.000000</td>\n",
       "      <td>1.000000</td>\n",
       "      <td>1.000000</td>\n",
       "      <td>1.000000</td>\n",
       "    </tr>\n",
       "    <tr>\n",
       "      <th>75%</th>\n",
       "      <td>4.000000</td>\n",
       "      <td>24.000000</td>\n",
       "      <td>4.000000</td>\n",
       "      <td>3.000000</td>\n",
       "      <td>3928.000000</td>\n",
       "      <td>3.000000</td>\n",
       "      <td>4.000000</td>\n",
       "      <td>4.000000</td>\n",
       "      <td>3.000000</td>\n",
       "      <td>1.000000</td>\n",
       "      <td>...</td>\n",
       "      <td>3.000000</td>\n",
       "      <td>41.000000</td>\n",
       "      <td>3.000000</td>\n",
       "      <td>2.000000</td>\n",
       "      <td>2.000000</td>\n",
       "      <td>3.000000</td>\n",
       "      <td>1.000000</td>\n",
       "      <td>2.000000</td>\n",
       "      <td>1.000000</td>\n",
       "      <td>1.000000</td>\n",
       "    </tr>\n",
       "    <tr>\n",
       "      <th>max</th>\n",
       "      <td>4.000000</td>\n",
       "      <td>60.000000</td>\n",
       "      <td>4.000000</td>\n",
       "      <td>10.000000</td>\n",
       "      <td>18424.000000</td>\n",
       "      <td>5.000000</td>\n",
       "      <td>5.000000</td>\n",
       "      <td>4.000000</td>\n",
       "      <td>4.000000</td>\n",
       "      <td>3.000000</td>\n",
       "      <td>...</td>\n",
       "      <td>4.000000</td>\n",
       "      <td>75.000000</td>\n",
       "      <td>3.000000</td>\n",
       "      <td>3.000000</td>\n",
       "      <td>4.000000</td>\n",
       "      <td>4.000000</td>\n",
       "      <td>2.000000</td>\n",
       "      <td>2.000000</td>\n",
       "      <td>2.000000</td>\n",
       "      <td>1.000000</td>\n",
       "    </tr>\n",
       "  </tbody>\n",
       "</table>\n",
       "<p>8 rows × 21 columns</p>\n",
       "</div>"
      ],
      "text/plain": [
       "                0           1           2           3             4  \\\n",
       "count  750.000000  750.000000  750.000000  750.000000    750.000000   \n",
       "mean     2.565333   20.856000    2.520000    2.869333   3233.025333   \n",
       "std      1.254258   11.958453    1.083435    2.741462   2813.435483   \n",
       "min      1.000000    4.000000    0.000000    0.000000    250.000000   \n",
       "25%      1.000000   12.000000    2.000000    1.000000   1356.500000   \n",
       "50%      2.000000   18.000000    2.000000    2.000000   2295.500000   \n",
       "75%      4.000000   24.000000    4.000000    3.000000   3928.000000   \n",
       "max      4.000000   60.000000    4.000000   10.000000  18424.000000   \n",
       "\n",
       "                5           6           7           8           9     ...      \\\n",
       "count  750.000000  750.000000  750.000000  750.000000  750.000000     ...       \n",
       "mean     2.054667    3.357333    2.993333    2.669333    1.154667     ...       \n",
       "std      1.542785    1.205370    1.106460    0.693278    0.493020     ...       \n",
       "min      1.000000    1.000000    1.000000    1.000000    1.000000     ...       \n",
       "25%      1.000000    3.000000    2.000000    2.000000    1.000000     ...       \n",
       "50%      1.000000    3.000000    3.000000    3.000000    1.000000     ...       \n",
       "75%      3.000000    4.000000    4.000000    3.000000    1.000000     ...       \n",
       "max      5.000000    5.000000    4.000000    4.000000    3.000000     ...       \n",
       "\n",
       "               11          12          13          14          15          16  \\\n",
       "count  750.000000  750.000000  750.000000  750.000000  750.000000  750.000000   \n",
       "mean     2.358667   35.317333    2.658667    1.921333    1.409333    2.900000   \n",
       "std      1.047929   11.467052    0.718457    0.537460    0.574648    0.649021   \n",
       "min      1.000000   19.000000    1.000000    1.000000    1.000000    1.000000   \n",
       "25%      1.000000   26.250000    3.000000    2.000000    1.000000    3.000000   \n",
       "50%      2.000000   33.000000    3.000000    2.000000    1.000000    3.000000   \n",
       "75%      3.000000   41.000000    3.000000    2.000000    2.000000    3.000000   \n",
       "max      4.000000   75.000000    3.000000    3.000000    4.000000    4.000000   \n",
       "\n",
       "               17          18          19           y  \n",
       "count  750.000000  750.000000  750.000000  750.000000  \n",
       "mean     1.148000    1.401333    1.033333    0.706667  \n",
       "std      0.355337    0.490495    0.179625    0.455594  \n",
       "min      1.000000    1.000000    1.000000    0.000000  \n",
       "25%      1.000000    1.000000    1.000000    0.000000  \n",
       "50%      1.000000    1.000000    1.000000    1.000000  \n",
       "75%      1.000000    2.000000    1.000000    1.000000  \n",
       "max      2.000000    2.000000    2.000000    1.000000  \n",
       "\n",
       "[8 rows x 21 columns]"
      ]
     },
     "execution_count": 3,
     "metadata": {},
     "output_type": "execute_result"
    }
   ],
   "source": [
    "dfx.describe()"
   ]
  },
  {
   "cell_type": "code",
   "execution_count": 4,
   "metadata": {
    "scrolled": true
   },
   "outputs": [
    {
     "data": {
      "text/html": [
       "<div>\n",
       "<style scoped>\n",
       "    .dataframe tbody tr th:only-of-type {\n",
       "        vertical-align: middle;\n",
       "    }\n",
       "\n",
       "    .dataframe tbody tr th {\n",
       "        vertical-align: top;\n",
       "    }\n",
       "\n",
       "    .dataframe thead th {\n",
       "        text-align: right;\n",
       "    }\n",
       "</style>\n",
       "<table border=\"1\" class=\"dataframe\">\n",
       "  <thead>\n",
       "    <tr style=\"text-align: right;\">\n",
       "      <th></th>\n",
       "      <th>0</th>\n",
       "      <th>1</th>\n",
       "      <th>2</th>\n",
       "      <th>3</th>\n",
       "      <th>4</th>\n",
       "      <th>5</th>\n",
       "      <th>6</th>\n",
       "      <th>7</th>\n",
       "      <th>8</th>\n",
       "      <th>9</th>\n",
       "      <th>...</th>\n",
       "      <th>11</th>\n",
       "      <th>12</th>\n",
       "      <th>13</th>\n",
       "      <th>14</th>\n",
       "      <th>15</th>\n",
       "      <th>16</th>\n",
       "      <th>17</th>\n",
       "      <th>18</th>\n",
       "      <th>19</th>\n",
       "      <th>y</th>\n",
       "    </tr>\n",
       "  </thead>\n",
       "  <tbody>\n",
       "    <tr>\n",
       "      <th>0</th>\n",
       "      <td>1</td>\n",
       "      <td>24</td>\n",
       "      <td>0</td>\n",
       "      <td>2</td>\n",
       "      <td>4110</td>\n",
       "      <td>1</td>\n",
       "      <td>5</td>\n",
       "      <td>3</td>\n",
       "      <td>3</td>\n",
       "      <td>1</td>\n",
       "      <td>...</td>\n",
       "      <td>4</td>\n",
       "      <td>23</td>\n",
       "      <td>1</td>\n",
       "      <td>1</td>\n",
       "      <td>2</td>\n",
       "      <td>3</td>\n",
       "      <td>2</td>\n",
       "      <td>1</td>\n",
       "      <td>1</td>\n",
       "      <td>0</td>\n",
       "    </tr>\n",
       "    <tr>\n",
       "      <th>1</th>\n",
       "      <td>2</td>\n",
       "      <td>9</td>\n",
       "      <td>2</td>\n",
       "      <td>2</td>\n",
       "      <td>959</td>\n",
       "      <td>1</td>\n",
       "      <td>3</td>\n",
       "      <td>1</td>\n",
       "      <td>2</td>\n",
       "      <td>1</td>\n",
       "      <td>...</td>\n",
       "      <td>3</td>\n",
       "      <td>29</td>\n",
       "      <td>1</td>\n",
       "      <td>2</td>\n",
       "      <td>1</td>\n",
       "      <td>3</td>\n",
       "      <td>1</td>\n",
       "      <td>1</td>\n",
       "      <td>1</td>\n",
       "      <td>0</td>\n",
       "    </tr>\n",
       "    <tr>\n",
       "      <th>2</th>\n",
       "      <td>4</td>\n",
       "      <td>6</td>\n",
       "      <td>2</td>\n",
       "      <td>0</td>\n",
       "      <td>672</td>\n",
       "      <td>1</td>\n",
       "      <td>1</td>\n",
       "      <td>1</td>\n",
       "      <td>2</td>\n",
       "      <td>1</td>\n",
       "      <td>...</td>\n",
       "      <td>1</td>\n",
       "      <td>54</td>\n",
       "      <td>3</td>\n",
       "      <td>2</td>\n",
       "      <td>1</td>\n",
       "      <td>1</td>\n",
       "      <td>1</td>\n",
       "      <td>2</td>\n",
       "      <td>1</td>\n",
       "      <td>1</td>\n",
       "    </tr>\n",
       "    <tr>\n",
       "      <th>3</th>\n",
       "      <td>1</td>\n",
       "      <td>12</td>\n",
       "      <td>4</td>\n",
       "      <td>0</td>\n",
       "      <td>4843</td>\n",
       "      <td>1</td>\n",
       "      <td>5</td>\n",
       "      <td>3</td>\n",
       "      <td>3</td>\n",
       "      <td>2</td>\n",
       "      <td>...</td>\n",
       "      <td>2</td>\n",
       "      <td>43</td>\n",
       "      <td>3</td>\n",
       "      <td>1</td>\n",
       "      <td>2</td>\n",
       "      <td>3</td>\n",
       "      <td>1</td>\n",
       "      <td>2</td>\n",
       "      <td>1</td>\n",
       "      <td>0</td>\n",
       "    </tr>\n",
       "    <tr>\n",
       "      <th>4</th>\n",
       "      <td>1</td>\n",
       "      <td>24</td>\n",
       "      <td>4</td>\n",
       "      <td>1</td>\n",
       "      <td>2957</td>\n",
       "      <td>1</td>\n",
       "      <td>5</td>\n",
       "      <td>4</td>\n",
       "      <td>3</td>\n",
       "      <td>1</td>\n",
       "      <td>...</td>\n",
       "      <td>2</td>\n",
       "      <td>63</td>\n",
       "      <td>3</td>\n",
       "      <td>2</td>\n",
       "      <td>2</td>\n",
       "      <td>3</td>\n",
       "      <td>1</td>\n",
       "      <td>2</td>\n",
       "      <td>1</td>\n",
       "      <td>1</td>\n",
       "    </tr>\n",
       "  </tbody>\n",
       "</table>\n",
       "<p>5 rows × 21 columns</p>\n",
       "</div>"
      ],
      "text/plain": [
       "   0   1  2  3     4  5  6  7  8  9 ...  11  12  13  14  15  16  17  18  19  y\n",
       "0  1  24  0  2  4110  1  5  3  3  1 ...   4  23   1   1   2   3   2   1   1  0\n",
       "1  2   9  2  2   959  1  3  1  2  1 ...   3  29   1   2   1   3   1   1   1  0\n",
       "2  4   6  2  0   672  1  1  1  2  1 ...   1  54   3   2   1   1   1   2   1  1\n",
       "3  1  12  4  0  4843  1  5  3  3  2 ...   2  43   3   1   2   3   1   2   1  0\n",
       "4  1  24  4  1  2957  1  5  4  3  1 ...   2  63   3   2   2   3   1   2   1  1\n",
       "\n",
       "[5 rows x 21 columns]"
      ]
     },
     "execution_count": 4,
     "metadata": {},
     "output_type": "execute_result"
    }
   ],
   "source": [
    "dfx.head()"
   ]
  },
  {
   "cell_type": "markdown",
   "metadata": {},
   "source": [
    "# Finding out what are categorical features"
   ]
  },
  {
   "cell_type": "code",
   "execution_count": 5,
   "metadata": {},
   "outputs": [
    {
     "data": {
      "text/plain": [
       "Index([0, 1, 2, 3, 4, 5, 6, 7, 8, 9, 10, 11, 12, 13, 14, 15, 16, 17, 18, 19,\n",
       "       'y'],\n",
       "      dtype='object')"
      ]
     },
     "execution_count": 5,
     "metadata": {},
     "output_type": "execute_result"
    }
   ],
   "source": [
    "dfx.columns"
   ]
  },
  {
   "cell_type": "code",
   "execution_count": 6,
   "metadata": {
    "scrolled": true
   },
   "outputs": [
    {
     "name": "stdout",
     "output_type": "stream",
     "text": [
      "shape of data: (750, 21)\n",
      "uniques of column 0 :  4\n",
      "uniques of column 1 :  31\n",
      "uniques of column 2 :  5\n",
      "uniques of column 3 :  10\n",
      "uniques of column 4 :  706\n",
      "uniques of column 5 :  5\n",
      "uniques of column 6 :  5\n",
      "uniques of column 7 :  4\n",
      "uniques of column 8 :  4\n",
      "uniques of column 9 :  3\n",
      "uniques of column 10 :  4\n",
      "uniques of column 11 :  4\n",
      "uniques of column 12 :  52\n",
      "uniques of column 13 :  3\n",
      "uniques of column 14 :  3\n",
      "uniques of column 15 :  4\n",
      "uniques of column 16 :  4\n",
      "uniques of column 17 :  2\n",
      "uniques of column 18 :  2\n",
      "uniques of column 19 :  2\n",
      "uniques of column y :  2\n"
     ]
    }
   ],
   "source": [
    "print('shape of data:', dfx.shape)\n",
    "for col in dfx.columns:\n",
    "    print('uniques of column', col, ': ', dfx[col].unique().shape[0])"
   ]
  },
  {
   "cell_type": "markdown",
   "metadata": {},
   "source": [
    "Thus I conclude that column 4 is not categorical. I am not sure about column 1, but I will just keep it as non-categorical. Maybe column 12 is the age, since the number of different values and the values fit well."
   ]
  },
  {
   "cell_type": "code",
   "execution_count": 17,
   "metadata": {},
   "outputs": [],
   "source": [
    "ohc_columns = [0, 2, 3, 5, 6, 7, 8, 9, 10, 11, 13, \n",
    "               14, 15, 16, 17, 18, 19]"
   ]
  },
  {
   "cell_type": "code",
   "execution_count": 22,
   "metadata": {},
   "outputs": [
    {
     "data": {
      "text/html": [
       "<div>\n",
       "<style scoped>\n",
       "    .dataframe tbody tr th:only-of-type {\n",
       "        vertical-align: middle;\n",
       "    }\n",
       "\n",
       "    .dataframe tbody tr th {\n",
       "        vertical-align: top;\n",
       "    }\n",
       "\n",
       "    .dataframe thead th {\n",
       "        text-align: right;\n",
       "    }\n",
       "</style>\n",
       "<table border=\"1\" class=\"dataframe\">\n",
       "  <thead>\n",
       "    <tr style=\"text-align: right;\">\n",
       "      <th></th>\n",
       "      <th>0</th>\n",
       "      <th>1</th>\n",
       "      <th>2</th>\n",
       "      <th>3</th>\n",
       "      <th>4</th>\n",
       "      <th>5</th>\n",
       "      <th>6</th>\n",
       "      <th>7</th>\n",
       "      <th>8</th>\n",
       "      <th>9</th>\n",
       "      <th>...</th>\n",
       "      <th>11</th>\n",
       "      <th>12</th>\n",
       "      <th>13</th>\n",
       "      <th>14</th>\n",
       "      <th>15</th>\n",
       "      <th>16</th>\n",
       "      <th>17</th>\n",
       "      <th>18</th>\n",
       "      <th>19</th>\n",
       "      <th>y</th>\n",
       "    </tr>\n",
       "  </thead>\n",
       "  <tbody>\n",
       "    <tr>\n",
       "      <th>0</th>\n",
       "      <td>1</td>\n",
       "      <td>24</td>\n",
       "      <td>0</td>\n",
       "      <td>2</td>\n",
       "      <td>4110</td>\n",
       "      <td>1</td>\n",
       "      <td>5</td>\n",
       "      <td>3</td>\n",
       "      <td>3</td>\n",
       "      <td>1</td>\n",
       "      <td>...</td>\n",
       "      <td>4</td>\n",
       "      <td>23</td>\n",
       "      <td>1</td>\n",
       "      <td>1</td>\n",
       "      <td>2</td>\n",
       "      <td>3</td>\n",
       "      <td>2</td>\n",
       "      <td>1</td>\n",
       "      <td>1</td>\n",
       "      <td>0</td>\n",
       "    </tr>\n",
       "    <tr>\n",
       "      <th>1</th>\n",
       "      <td>2</td>\n",
       "      <td>9</td>\n",
       "      <td>2</td>\n",
       "      <td>2</td>\n",
       "      <td>959</td>\n",
       "      <td>1</td>\n",
       "      <td>3</td>\n",
       "      <td>1</td>\n",
       "      <td>2</td>\n",
       "      <td>1</td>\n",
       "      <td>...</td>\n",
       "      <td>3</td>\n",
       "      <td>29</td>\n",
       "      <td>1</td>\n",
       "      <td>2</td>\n",
       "      <td>1</td>\n",
       "      <td>3</td>\n",
       "      <td>1</td>\n",
       "      <td>1</td>\n",
       "      <td>1</td>\n",
       "      <td>0</td>\n",
       "    </tr>\n",
       "    <tr>\n",
       "      <th>2</th>\n",
       "      <td>4</td>\n",
       "      <td>6</td>\n",
       "      <td>2</td>\n",
       "      <td>0</td>\n",
       "      <td>672</td>\n",
       "      <td>1</td>\n",
       "      <td>1</td>\n",
       "      <td>1</td>\n",
       "      <td>2</td>\n",
       "      <td>1</td>\n",
       "      <td>...</td>\n",
       "      <td>1</td>\n",
       "      <td>54</td>\n",
       "      <td>3</td>\n",
       "      <td>2</td>\n",
       "      <td>1</td>\n",
       "      <td>1</td>\n",
       "      <td>1</td>\n",
       "      <td>2</td>\n",
       "      <td>1</td>\n",
       "      <td>1</td>\n",
       "    </tr>\n",
       "    <tr>\n",
       "      <th>3</th>\n",
       "      <td>1</td>\n",
       "      <td>12</td>\n",
       "      <td>4</td>\n",
       "      <td>0</td>\n",
       "      <td>4843</td>\n",
       "      <td>1</td>\n",
       "      <td>5</td>\n",
       "      <td>3</td>\n",
       "      <td>3</td>\n",
       "      <td>2</td>\n",
       "      <td>...</td>\n",
       "      <td>2</td>\n",
       "      <td>43</td>\n",
       "      <td>3</td>\n",
       "      <td>1</td>\n",
       "      <td>2</td>\n",
       "      <td>3</td>\n",
       "      <td>1</td>\n",
       "      <td>2</td>\n",
       "      <td>1</td>\n",
       "      <td>0</td>\n",
       "    </tr>\n",
       "    <tr>\n",
       "      <th>4</th>\n",
       "      <td>1</td>\n",
       "      <td>24</td>\n",
       "      <td>4</td>\n",
       "      <td>1</td>\n",
       "      <td>2957</td>\n",
       "      <td>1</td>\n",
       "      <td>5</td>\n",
       "      <td>4</td>\n",
       "      <td>3</td>\n",
       "      <td>1</td>\n",
       "      <td>...</td>\n",
       "      <td>2</td>\n",
       "      <td>63</td>\n",
       "      <td>3</td>\n",
       "      <td>2</td>\n",
       "      <td>2</td>\n",
       "      <td>3</td>\n",
       "      <td>1</td>\n",
       "      <td>2</td>\n",
       "      <td>1</td>\n",
       "      <td>1</td>\n",
       "    </tr>\n",
       "  </tbody>\n",
       "</table>\n",
       "<p>5 rows × 21 columns</p>\n",
       "</div>"
      ],
      "text/plain": [
       "   0   1  2  3     4  5  6  7  8  9 ...  11  12  13  14  15  16  17  18  19  y\n",
       "0  1  24  0  2  4110  1  5  3  3  1 ...   4  23   1   1   2   3   2   1   1  0\n",
       "1  2   9  2  2   959  1  3  1  2  1 ...   3  29   1   2   1   3   1   1   1  0\n",
       "2  4   6  2  0   672  1  1  1  2  1 ...   1  54   3   2   1   1   1   2   1  1\n",
       "3  1  12  4  0  4843  1  5  3  3  2 ...   2  43   3   1   2   3   1   2   1  0\n",
       "4  1  24  4  1  2957  1  5  4  3  1 ...   2  63   3   2   2   3   1   2   1  1\n",
       "\n",
       "[5 rows x 21 columns]"
      ]
     },
     "execution_count": 22,
     "metadata": {},
     "output_type": "execute_result"
    }
   ],
   "source": [
    "dfx.head()"
   ]
  },
  {
   "cell_type": "code",
   "execution_count": null,
   "metadata": {},
   "outputs": [],
   "source": []
  },
  {
   "cell_type": "code",
   "execution_count": 21,
   "metadata": {},
   "outputs": [
    {
     "name": "stdout",
     "output_type": "stream",
     "text": [
      "[[-1.41392848e-05  2.65573671e-03 -2.13475443e-05  6.57204867e-05\n",
      "   9.99996434e-01  3.16792013e-05  5.69410322e-07 -1.03384635e-04\n",
      "   7.46132978e-07 -5.80165146e-06  2.33430351e-06  1.15024785e-04\n",
      "   2.03309306e-04 -1.85184497e-05  2.26348234e-05  2.46716310e-06\n",
      "   6.63290787e-05  2.09523106e-06  5.14606454e-05 -7.27326347e-07\n",
      "  -2.39113308e-05]]\n"
     ]
    }
   ],
   "source": [
    "pca = PCA(n_components = 1)\n",
    "pca.fit(dfx)\n",
    "#print(pca.explained_variance_ratio_)\n",
    "print(pca.components_)"
   ]
  },
  {
   "cell_type": "markdown",
   "metadata": {},
   "source": [
    "# One-Hot encoding"
   ]
  },
  {
   "cell_type": "markdown",
   "metadata": {},
   "source": [
    "one-hot-encoding all columns in ohc_columns.\n",
    "\n",
    "Now we have 101 features. All but 4110 and 23 are one-hot-encoded and either 1 or zero."
   ]
  },
  {
   "cell_type": "code",
   "execution_count": 8,
   "metadata": {},
   "outputs": [],
   "source": [
    "dfx_ohc = pd.get_dummies(dfx, columns=ohc_columns)"
   ]
  },
  {
   "cell_type": "code",
   "execution_count": 9,
   "metadata": {},
   "outputs": [
    {
     "data": {
      "text/plain": [
       "(750, 72)"
      ]
     },
     "execution_count": 9,
     "metadata": {},
     "output_type": "execute_result"
    }
   ],
   "source": [
    "dfx_ohc.shape"
   ]
  },
  {
   "cell_type": "code",
   "execution_count": 10,
   "metadata": {},
   "outputs": [
    {
     "data": {
      "text/html": [
       "<div>\n",
       "<style scoped>\n",
       "    .dataframe tbody tr th:only-of-type {\n",
       "        vertical-align: middle;\n",
       "    }\n",
       "\n",
       "    .dataframe tbody tr th {\n",
       "        vertical-align: top;\n",
       "    }\n",
       "\n",
       "    .dataframe thead th {\n",
       "        text-align: right;\n",
       "    }\n",
       "</style>\n",
       "<table border=\"1\" class=\"dataframe\">\n",
       "  <thead>\n",
       "    <tr style=\"text-align: right;\">\n",
       "      <th></th>\n",
       "      <th>1</th>\n",
       "      <th>4</th>\n",
       "      <th>12</th>\n",
       "      <th>y</th>\n",
       "      <th>0_1</th>\n",
       "      <th>0_2</th>\n",
       "      <th>0_3</th>\n",
       "      <th>0_4</th>\n",
       "      <th>2_0</th>\n",
       "      <th>2_1</th>\n",
       "      <th>...</th>\n",
       "      <th>16_1</th>\n",
       "      <th>16_2</th>\n",
       "      <th>16_3</th>\n",
       "      <th>16_4</th>\n",
       "      <th>17_1</th>\n",
       "      <th>17_2</th>\n",
       "      <th>18_1</th>\n",
       "      <th>18_2</th>\n",
       "      <th>19_1</th>\n",
       "      <th>19_2</th>\n",
       "    </tr>\n",
       "  </thead>\n",
       "  <tbody>\n",
       "    <tr>\n",
       "      <th>0</th>\n",
       "      <td>24</td>\n",
       "      <td>4110</td>\n",
       "      <td>23</td>\n",
       "      <td>0</td>\n",
       "      <td>1</td>\n",
       "      <td>0</td>\n",
       "      <td>0</td>\n",
       "      <td>0</td>\n",
       "      <td>1</td>\n",
       "      <td>0</td>\n",
       "      <td>...</td>\n",
       "      <td>0</td>\n",
       "      <td>0</td>\n",
       "      <td>1</td>\n",
       "      <td>0</td>\n",
       "      <td>0</td>\n",
       "      <td>1</td>\n",
       "      <td>1</td>\n",
       "      <td>0</td>\n",
       "      <td>1</td>\n",
       "      <td>0</td>\n",
       "    </tr>\n",
       "    <tr>\n",
       "      <th>1</th>\n",
       "      <td>9</td>\n",
       "      <td>959</td>\n",
       "      <td>29</td>\n",
       "      <td>0</td>\n",
       "      <td>0</td>\n",
       "      <td>1</td>\n",
       "      <td>0</td>\n",
       "      <td>0</td>\n",
       "      <td>0</td>\n",
       "      <td>0</td>\n",
       "      <td>...</td>\n",
       "      <td>0</td>\n",
       "      <td>0</td>\n",
       "      <td>1</td>\n",
       "      <td>0</td>\n",
       "      <td>1</td>\n",
       "      <td>0</td>\n",
       "      <td>1</td>\n",
       "      <td>0</td>\n",
       "      <td>1</td>\n",
       "      <td>0</td>\n",
       "    </tr>\n",
       "    <tr>\n",
       "      <th>2</th>\n",
       "      <td>6</td>\n",
       "      <td>672</td>\n",
       "      <td>54</td>\n",
       "      <td>1</td>\n",
       "      <td>0</td>\n",
       "      <td>0</td>\n",
       "      <td>0</td>\n",
       "      <td>1</td>\n",
       "      <td>0</td>\n",
       "      <td>0</td>\n",
       "      <td>...</td>\n",
       "      <td>1</td>\n",
       "      <td>0</td>\n",
       "      <td>0</td>\n",
       "      <td>0</td>\n",
       "      <td>1</td>\n",
       "      <td>0</td>\n",
       "      <td>0</td>\n",
       "      <td>1</td>\n",
       "      <td>1</td>\n",
       "      <td>0</td>\n",
       "    </tr>\n",
       "    <tr>\n",
       "      <th>3</th>\n",
       "      <td>12</td>\n",
       "      <td>4843</td>\n",
       "      <td>43</td>\n",
       "      <td>0</td>\n",
       "      <td>1</td>\n",
       "      <td>0</td>\n",
       "      <td>0</td>\n",
       "      <td>0</td>\n",
       "      <td>0</td>\n",
       "      <td>0</td>\n",
       "      <td>...</td>\n",
       "      <td>0</td>\n",
       "      <td>0</td>\n",
       "      <td>1</td>\n",
       "      <td>0</td>\n",
       "      <td>1</td>\n",
       "      <td>0</td>\n",
       "      <td>0</td>\n",
       "      <td>1</td>\n",
       "      <td>1</td>\n",
       "      <td>0</td>\n",
       "    </tr>\n",
       "    <tr>\n",
       "      <th>4</th>\n",
       "      <td>24</td>\n",
       "      <td>2957</td>\n",
       "      <td>63</td>\n",
       "      <td>1</td>\n",
       "      <td>1</td>\n",
       "      <td>0</td>\n",
       "      <td>0</td>\n",
       "      <td>0</td>\n",
       "      <td>0</td>\n",
       "      <td>0</td>\n",
       "      <td>...</td>\n",
       "      <td>0</td>\n",
       "      <td>0</td>\n",
       "      <td>1</td>\n",
       "      <td>0</td>\n",
       "      <td>1</td>\n",
       "      <td>0</td>\n",
       "      <td>0</td>\n",
       "      <td>1</td>\n",
       "      <td>1</td>\n",
       "      <td>0</td>\n",
       "    </tr>\n",
       "  </tbody>\n",
       "</table>\n",
       "<p>5 rows × 72 columns</p>\n",
       "</div>"
      ],
      "text/plain": [
       "    1     4  12  y  0_1  0_2  0_3  0_4  2_0  2_1  ...   16_1  16_2  16_3  \\\n",
       "0  24  4110  23  0    1    0    0    0    1    0  ...      0     0     1   \n",
       "1   9   959  29  0    0    1    0    0    0    0  ...      0     0     1   \n",
       "2   6   672  54  1    0    0    0    1    0    0  ...      1     0     0   \n",
       "3  12  4843  43  0    1    0    0    0    0    0  ...      0     0     1   \n",
       "4  24  2957  63  1    1    0    0    0    0    0  ...      0     0     1   \n",
       "\n",
       "   16_4  17_1  17_2  18_1  18_2  19_1  19_2  \n",
       "0     0     0     1     1     0     1     0  \n",
       "1     0     1     0     1     0     1     0  \n",
       "2     0     1     0     0     1     1     0  \n",
       "3     0     1     0     0     1     1     0  \n",
       "4     0     1     0     0     1     1     0  \n",
       "\n",
       "[5 rows x 72 columns]"
      ]
     },
     "execution_count": 10,
     "metadata": {},
     "output_type": "execute_result"
    }
   ],
   "source": [
    "dfx_ohc.head()"
   ]
  },
  {
   "cell_type": "markdown",
   "metadata": {},
   "source": [
    "# Visualization"
   ]
  },
  {
   "cell_type": "code",
   "execution_count": 11,
   "metadata": {
    "scrolled": true
   },
   "outputs": [
    {
     "data": {
      "text/plain": [
       "<matplotlib.axes._subplots.AxesSubplot at 0x7fa83a762438>"
      ]
     },
     "execution_count": 11,
     "metadata": {},
     "output_type": "execute_result"
    },
    {
     "data": {
      "image/png": "[encoded data removed]",
      "text/plain": [
       "<Figure size 432x288 with 1 Axes>"
      ]
     },
     "metadata": {
      "needs_background": "light"
     },
     "output_type": "display_data"
    }
   ],
   "source": [
    "sns.countplot(x='y', data=dfx, palette='hls')"
   ]
  },
  {
   "cell_type": "code",
   "execution_count": 12,
   "metadata": {},
   "outputs": [
    {
     "name": "stdout",
     "output_type": "stream",
     "text": [
      "1s: 0.7066666666666667 %\n"
     ]
    }
   ],
   "source": [
    "count_total = len(dfx)\n",
    "count_1 = len(dfx[dfx['y'] == 1])\n",
    "count_0 = len(dfx[dfx['y'] == 0])\n",
    "print('1s:', count_1 / count_total, '%')"
   ]
  },
  {
   "cell_type": "raw",
   "metadata": {
    "scrolled": false
   },
   "source": [
    "sns.pairplot(dfx)"
   ]
  },
  {
   "cell_type": "raw",
   "metadata": {
    "scrolled": false
   },
   "source": [
    "%matplotlib inline\n",
    "for feature in dfx.columns:\n",
    "    pd.crosstab(dfx[feature],dfx.y).plot(kind='bar')\n",
    "    plt.title('')\n",
    "    plt.xlabel('Feature {}'.format(feature))\n",
    "    plt.ylabel('y')"
   ]
  },
  {
   "cell_type": "raw",
   "metadata": {
    "scrolled": false
   },
   "source": [
    "for column in dfx.columns:\n",
    "    dfx[column].hist()\n",
    "    plt.show()"
   ]
  },
  {
   "cell_type": "markdown",
   "metadata": {},
   "source": [
    "# Train Test Split, Logistic Regression"
   ]
  },
  {
   "cell_type": "code",
   "execution_count": 13,
   "metadata": {},
   "outputs": [],
   "source": [
    "train = dfx_ohc.sample(frac = 0.9, random_state = 314)\n",
    "test = dfx_ohc.drop(train.index)\n",
    "\n",
    "train.drop('y', axis = 1).to_csv('only_trainX.csv', index = False, sep = '\\t')\n",
    "train['y'].to_csv('only_trainy.csv', index = False, sep = '\\t')\n",
    "test.drop('y', axis = 1).to_csv('only_testX.csv', index = False, sep = '\\t')\n",
    "test['y'].to_csv('only_testy.csv', index = False, sep = '\\t')\n",
    "# not using colums  13, 16, 19, 12, 8, 16\n",
    "use_cols = [0, 1, 2, 3, 4, 5, 6, 7, 8, 9, 10, 11, 12, 13,\n",
    "            14, 15, 16, 17, 18, 19]\n",
    "#use_cols = [0, 1, 2, 3, 4, 5, 6, 7, 9, 10, 11, 14, 15,\n",
    " #           17, 18]\n",
    "\n",
    "trainX = train.drop('y', axis = 1)\n",
    "trainy = train['y']\n",
    "testX = test.drop('y', axis = 1)\n",
    "testy = test['y']"
   ]
  },
  {
   "cell_type": "code",
   "execution_count": 14,
   "metadata": {
    "scrolled": true
   },
   "outputs": [
    {
     "name": "stdout",
     "output_type": "stream",
     "text": [
      "Warning: Maximum number of iterations has been exceeded.\n",
      "         Current function value: 0.413647\n",
      "         Iterations: 35\n",
      "                            Results: Logit\n",
      "======================================================================\n",
      "Model:                 Logit             Pseudo R-squared:  0.316     \n",
      "Dependent Variable:    y                 AIC:               668.4239  \n",
      "Date:                  2018-12-26 22:07  BIC:               916.7331  \n",
      "No. Observations:      675               Log-Likelihood:    -279.21   \n",
      "Df Model:              54                LL-Null:           -408.45   \n",
      "Df Residuals:          620               LLR p-value:       1.8200e-28\n",
      "Converged:             0.0000            Scale:             1.0000    \n",
      "No. Iterations:        35.0000                                        \n",
      "----------------------------------------------------------------------\n",
      "      Coef.     Std.Err.      z    P>|z|      [0.025         0.975]   \n",
      "----------------------------------------------------------------------\n",
      "1    -0.0282        0.0123 -2.2839 0.0224        -0.0523       -0.0040\n",
      "4    -0.0002        0.0001 -2.7364 0.0062        -0.0003       -0.0000\n",
      "12    0.0062        0.0120  0.5151 0.6065        -0.0173        0.0297\n",
      "0_1  -0.7389           nan     nan    nan            nan           nan\n",
      "0_2  -0.2315           nan     nan    nan            nan           nan\n",
      "0_3   0.7167           nan     nan    nan            nan           nan\n",
      "0_4   1.1909           nan     nan    nan            nan           nan\n",
      "2_0  -0.4737  7283670.9479 -0.0000 1.0000 -14275733.2069 14275732.2595\n",
      "2_1  -0.8606  7322935.1388 -0.0000 1.0000 -14352689.9938 14352688.2725\n",
      "2_2   0.0831  6728784.3415  0.0000 1.0000 -13188174.8860 13188175.0521\n",
      "2_3   0.9744  6923876.3858  0.0000 1.0000 -13570547.3752 13570549.3239\n",
      "2_4   1.2142  6960203.9935  0.0000 1.0000 -13641747.9381 13641750.3665\n",
      "3_0  -2.4690           nan     nan    nan            nan           nan\n",
      "3_1  -0.7389           nan     nan    nan            nan           nan\n",
      "3_2  -1.1117           nan     nan    nan            nan           nan\n",
      "3_3  -1.3217           nan     nan    nan            nan           nan\n",
      "3_4  -3.5867           nan     nan    nan            nan           nan\n",
      "3_5  -2.2100           nan     nan    nan            nan           nan\n",
      "3_6  -2.5000           nan     nan    nan            nan           nan\n",
      "3_8  17.2291           nan     nan    nan            nan           nan\n",
      "3_9  -1.5391           nan     nan    nan            nan           nan\n",
      "3_10 -0.8147           nan     nan    nan            nan           nan\n",
      "5_1  -0.5435           nan     nan    nan            nan           nan\n",
      "5_2  -0.2131           nan     nan    nan            nan           nan\n",
      "5_3  -0.4241           nan     nan    nan            nan           nan\n",
      "5_4   1.3906           nan     nan    nan            nan           nan\n",
      "5_5   0.7275           nan     nan    nan            nan           nan\n",
      "6_1  -0.0859           nan     nan    nan            nan           nan\n",
      "6_2  -0.2544           nan     nan    nan            nan           nan\n",
      "6_3   0.2494           nan     nan    nan            nan           nan\n",
      "6_4   0.9545           nan     nan    nan            nan           nan\n",
      "6_5   0.0736           nan     nan    nan            nan           nan\n",
      "7_1   0.8262 14237745.5956  0.0000 1.0000 -27905467.7621 27905469.4145\n",
      "7_2   0.4802 13871708.7774  0.0000 1.0000 -27188049.1274 27188050.0879\n",
      "7_3  -0.1990 14741352.8017 -0.0000 1.0000 -28892520.7737 28892520.3757\n",
      "7_4  -0.1702 13583852.6849 -0.0000 1.0000 -26623862.2038 26623861.8635\n",
      "8_1  -0.0147  4262131.9818 -0.0000 1.0000  -8353625.1965  8353625.1670\n",
      "8_2   0.1097  4422843.8523  0.0000 1.0000  -8668614.5500  8668614.7694\n",
      "8_3   0.8039  4167456.9428  0.0000 1.0000  -8168064.7112  8168066.3190\n",
      "8_4   0.0384  4321277.1040  0.0000 1.0000  -8469547.4527  8469547.5294\n",
      "9_1   0.3229  1989720.4890  0.0000 1.0000  -3899780.1748  3899780.8206\n",
      "9_2  -0.6303  1848346.6286 -0.0000 1.0000  -3622693.4533  3622692.1927\n",
      "9_3   1.2447  1744878.8375  0.0000 1.0000  -3419898.4343  3419900.9237\n",
      "10_1  0.8907  6365192.9337  0.0000 1.0000 -12475548.0139 12475549.7953\n",
      "10_2 -0.2060  6338316.5591 -0.0000 1.0000 -12422872.3846 12422871.9725\n",
      "10_3  0.0104  6241059.1893  0.0000 1.0000 -12232251.2261 12232251.2469\n",
      "10_4  0.2422  6281954.8091  0.0000 1.0000 -12312404.9361 12312405.4204\n",
      "11_1  0.6199           nan     nan    nan            nan           nan\n",
      "11_2  0.1112           nan     nan    nan            nan           nan\n",
      "11_3  0.3790           nan     nan    nan            nan           nan\n",
      "11_4 -0.1728           nan     nan    nan            nan           nan\n",
      "13_1  0.1565  1996728.9499  0.0000 1.0000  -3913516.6722  3913516.9852\n",
      "13_2  0.0653  2352206.9618  0.0000 1.0000  -4610240.8639  4610240.9946\n",
      "13_3  0.7155  2134593.0357  0.0000 1.0000  -4183724.7560  4183726.1870\n",
      "14_1 -0.1273  1937266.0348 -0.0000 1.0000  -3796971.7839  3796971.5294\n",
      "14_2  0.3773  1937266.0348  0.0000 1.0000  -3796971.2793  3796972.0339\n",
      "14_3  0.6873  2042057.7012  0.0000 1.0000  -4002358.8614  4002360.2359\n",
      "15_1  0.3432           nan     nan    nan            nan           nan\n",
      "15_2 -0.0688           nan     nan    nan            nan           nan\n",
      "15_3  1.4669           nan     nan    nan            nan           nan\n",
      "15_4 -0.8039           nan     nan    nan            nan           nan\n",
      "16_1  1.0569           nan     nan    nan            nan           nan\n",
      "16_2 -0.2620           nan     nan    nan            nan           nan\n",
      "16_3 -0.0896           nan     nan    nan            nan           nan\n",
      "16_4  0.2320           nan     nan    nan            nan           nan\n",
      "17_1  0.5287  1813563.8429  0.0000 1.0000  -3554519.2871  3554520.3445\n",
      "17_2  0.4086  1839289.4377  0.0000 1.0000  -3604940.6464  3604941.4636\n",
      "18_1  0.2785           nan     nan    nan            nan           nan\n",
      "18_2  0.6588           nan     nan    nan            nan           nan\n",
      "19_1 -0.2507  1783433.9021 -0.0000 1.0000  -3495466.4675  3495465.9662\n",
      "19_2  1.1880  1783433.9021  0.0000 1.0000  -3495465.0289  3495467.4048\n",
      "======================================================================\n",
      "\n"
     ]
    },
    {
     "name": "stderr",
     "output_type": "stream",
     "text": [
      "/home/mknipfer/.local/lib/python3.7/site-packages/statsmodels/base/model.py:508: ConvergenceWarning: Maximum Likelihood optimization failed to converge. Check mle_retvals\n",
      "  \"Check mle_retvals\", ConvergenceWarning)\n",
      "/home/mknipfer/.local/lib/python3.7/site-packages/statsmodels/base/model.py:1092: RuntimeWarning: invalid value encountered in sqrt\n",
      "  bse_ = np.sqrt(np.diag(self.cov_params()))\n",
      "/usr/lib/python3.7/site-packages/scipy/stats/_distn_infrastructure.py:877: RuntimeWarning: invalid value encountered in greater\n",
      "  return (self.a < x) & (x < self.b)\n",
      "/usr/lib/python3.7/site-packages/scipy/stats/_distn_infrastructure.py:877: RuntimeWarning: invalid value encountered in less\n",
      "  return (self.a < x) & (x < self.b)\n",
      "/usr/lib/python3.7/site-packages/scipy/stats/_distn_infrastructure.py:1831: RuntimeWarning: invalid value encountered in less_equal\n",
      "  cond2 = cond0 & (x <= self.a)\n"
     ]
    }
   ],
   "source": [
    "logit_model = sm.Logit(trainy,trainX)\n",
    "logit_fit = logit_model.fit()\n",
    "print(logit_fit.summary2())"
   ]
  },
  {
   "cell_type": "code",
   "execution_count": 15,
   "metadata": {},
   "outputs": [
    {
     "name": "stderr",
     "output_type": "stream",
     "text": [
      "/usr/lib/python3.7/site-packages/sklearn/linear_model/logistic.py:433: FutureWarning: Default solver will be changed to 'lbfgs' in 0.22. Specify a solver to silence this warning.\n",
      "  FutureWarning)\n"
     ]
    },
    {
     "data": {
      "text/plain": [
       "LogisticRegression(C=1.0, class_weight=None, dual=False, fit_intercept=True,\n",
       "          intercept_scaling=1, max_iter=500, multi_class='warn',\n",
       "          n_jobs=None, penalty='l1', random_state=None, solver='warn',\n",
       "          tol=0.0001, verbose=0, warm_start=False)"
      ]
     },
     "execution_count": 15,
     "metadata": {},
     "output_type": "execute_result"
    }
   ],
   "source": [
    "logreg = LogisticRegression(C = 1., penalty = \"l1\", max_iter=500)\n",
    "logreg.fit(trainX, trainy)"
   ]
  },
  {
   "cell_type": "code",
   "execution_count": 16,
   "metadata": {},
   "outputs": [
    {
     "data": {
      "text/plain": [
       "0.7733333333333333"
      ]
     },
     "execution_count": 16,
     "metadata": {},
     "output_type": "execute_result"
    }
   ],
   "source": [
    "predy = logreg.predict(testX)\n",
    "logreg.score(testX, testy)"
   ]
  },
  {
   "cell_type": "markdown",
   "metadata": {},
   "source": [
    "# Confusion Matrix"
   ]
  },
  {
   "cell_type": "code",
   "execution_count": 17,
   "metadata": {},
   "outputs": [
    {
     "name": "stdout",
     "output_type": "stream",
     "text": [
      "[[13  9]\n",
      " [ 8 45]]\n"
     ]
    }
   ],
   "source": [
    "cf_matrix = confusion_matrix(testy, predy)\n",
    "print(cf_matrix)"
   ]
  },
  {
   "cell_type": "markdown",
   "metadata": {},
   "source": [
    "# Classification Report"
   ]
  },
  {
   "cell_type": "code",
   "execution_count": 18,
   "metadata": {},
   "outputs": [
    {
     "name": "stdout",
     "output_type": "stream",
     "text": [
      "              precision    recall  f1-score   support\n",
      "\n",
      "           0       0.62      0.59      0.60        22\n",
      "           1       0.83      0.85      0.84        53\n",
      "\n",
      "   micro avg       0.77      0.77      0.77        75\n",
      "   macro avg       0.73      0.72      0.72        75\n",
      "weighted avg       0.77      0.77      0.77        75\n",
      "\n"
     ]
    }
   ],
   "source": [
    "print(classification_report(testy, predy))"
   ]
  },
  {
   "cell_type": "markdown",
   "metadata": {},
   "source": [
    "# Receiver operating characteristic"
   ]
  },
  {
   "cell_type": "code",
   "execution_count": 19,
   "metadata": {},
   "outputs": [
    {
     "data": {
      "image/png": "[encoded data removed]",
      "text/plain": [
       "<Figure size 432x288 with 1 Axes>"
      ]
     },
     "metadata": {
      "needs_background": "light"
     },
     "output_type": "display_data"
    }
   ],
   "source": [
    "logit_roc_auc = roc_auc_score(testy, logreg.predict(testX))\n",
    "fpr, tpr, thresholds = roc_curve(testy, logreg.predict_proba(testX)[:,1])\n",
    "plt.figure()\n",
    "plt.plot(fpr, tpr, label='Logistic Regression (area = %0.2f)' % logit_roc_auc)\n",
    "plt.plot([0, 1], [0, 1],'r--')\n",
    "plt.xlim([0.0, 1.0])\n",
    "plt.ylim([0.0, 1.05])\n",
    "plt.xlabel('False Positive Rate')\n",
    "plt.ylabel('True Positive Rate')\n",
    "plt.title('Receiver operating characteristic')\n",
    "plt.legend(loc=\"lower right\")\n",
    "plt.savefig('Log_ROC')\n",
    "plt.show()\n"
   ]
  },
  {
   "cell_type": "markdown",
   "metadata": {},
   "source": [
    "# Threshold, Rates\n",
    "\n",
    "https://stackoverflow.com/questions/28716241/controlling-the-threshold-in-logistic-regression-in-scikit-learn\n",
    "\n",
    "https://en.wikipedia.org/wiki/Confusion_matrix"
   ]
  },
  {
   "cell_type": "markdown",
   "metadata": {},
   "source": [
    "Essentially we want few false positives (top right of confusion matrix),\n",
    "but no zero, because this would mean always predicting 0."
   ]
  },
  {
   "cell_type": "code",
   "execution_count": 20,
   "metadata": {},
   "outputs": [],
   "source": [
    "def fd_rate(cf_matrix):\n",
    "    # FP / (FP + TP)\n",
    "    return cf_matrix[0][1] / (cf_matrix[0][1] + cf_matrix[0][0])\n",
    "\n",
    "def tp_rate(cf_matrix):\n",
    "    # TP / (FP + FN)\n",
    "    return cf_matrix[0][0] / (cf_matrix[0][0] + cf_matrix[1][0])\n",
    "\n",
    "def fo_rate(cf_matrix):\n",
    "    # FN / (FN + TN)\n",
    "    return cf_matrix[1][0] / (cf_matrix[1][0] + cf_matrix[1][1])\n",
    "\n",
    "def specificity_rate(cf_matrix):\n",
    "    # TN / (FP + TN)\n",
    "    return cf_matrix[1][1] / (cf_matrix[0][1] + cf_matrix[1][1])\n",
    "\n",
    "def precision_rate(cf_matrix):\n",
    "    # TP / (TP + FP)\n",
    "    return cf_matrix[0][0] / (cf_matrix[0][0] + cf_matrix[0][1])\n",
    "\n",
    "def error_rate(cf_matrix):\n",
    "    # (FP + FN) / ALL\n",
    "    return (cf_matrix[0][1] + cf_matrix[1][0]) / (cf_matrix[0][0] + cf_matrix[0][1] + cf_matrix[1][0] + cf_matrix[1][1])"
   ]
  },
  {
   "cell_type": "code",
   "execution_count": 21,
   "metadata": {
    "scrolled": true
   },
   "outputs": [
    {
     "name": "stdout",
     "output_type": "stream",
     "text": [
      "\n",
      "******** For threshold = 0.65 ******\n",
      "Our testing accuracy is 0.6933333333333334\n",
      "False discovery rate: 0.36363636363636365\n",
      "Precision rate: 0.6363636363636364\n",
      "Error rate: 0.30666666666666664\n",
      "True positive rate: 0.4827586206896552\n",
      "False omission rate: 0.2830188679245283\n",
      "Specificity rate: 0.8260869565217391\n",
      "[[14  8]\n",
      " [15 38]]\n",
      "\n",
      "******** For threshold = 0.6578947368421053 ******\n",
      "Our testing accuracy is 0.68\n",
      "False discovery rate: 0.36363636363636365\n",
      "Precision rate: 0.6363636363636364\n",
      "Error rate: 0.32\n",
      "True positive rate: 0.4666666666666667\n",
      "False omission rate: 0.3018867924528302\n",
      "Specificity rate: 0.8222222222222222\n",
      "[[14  8]\n",
      " [16 37]]\n",
      "\n",
      "******** For threshold = 0.6657894736842106 ******\n",
      "Our testing accuracy is 0.68\n",
      "False discovery rate: 0.36363636363636365\n",
      "Precision rate: 0.6363636363636364\n",
      "Error rate: 0.32\n",
      "True positive rate: 0.4666666666666667\n",
      "False omission rate: 0.3018867924528302\n",
      "Specificity rate: 0.8222222222222222\n",
      "[[14  8]\n",
      " [16 37]]\n",
      "\n",
      "******** For threshold = 0.6736842105263158 ******\n",
      "Our testing accuracy is 0.68\n",
      "False discovery rate: 0.36363636363636365\n",
      "Precision rate: 0.6363636363636364\n",
      "Error rate: 0.32\n",
      "True positive rate: 0.4666666666666667\n",
      "False omission rate: 0.3018867924528302\n",
      "Specificity rate: 0.8222222222222222\n",
      "[[14  8]\n",
      " [16 37]]\n",
      "\n",
      "******** For threshold = 0.6815789473684211 ******\n",
      "Our testing accuracy is 0.6666666666666666\n",
      "False discovery rate: 0.36363636363636365\n",
      "Precision rate: 0.6363636363636364\n",
      "Error rate: 0.3333333333333333\n",
      "True positive rate: 0.45161290322580644\n",
      "False omission rate: 0.32075471698113206\n",
      "Specificity rate: 0.8181818181818182\n",
      "[[14  8]\n",
      " [17 36]]\n",
      "\n",
      "******** For threshold = 0.6894736842105263 ******\n",
      "Our testing accuracy is 0.6666666666666666\n",
      "False discovery rate: 0.36363636363636365\n",
      "Precision rate: 0.6363636363636364\n",
      "Error rate: 0.3333333333333333\n",
      "True positive rate: 0.45161290322580644\n",
      "False omission rate: 0.32075471698113206\n",
      "Specificity rate: 0.8181818181818182\n",
      "[[14  8]\n",
      " [17 36]]\n",
      "\n",
      "******** For threshold = 0.6973684210526316 ******\n",
      "Our testing accuracy is 0.6666666666666666\n",
      "False discovery rate: 0.36363636363636365\n",
      "Precision rate: 0.6363636363636364\n",
      "Error rate: 0.3333333333333333\n",
      "True positive rate: 0.45161290322580644\n",
      "False omission rate: 0.32075471698113206\n",
      "Specificity rate: 0.8181818181818182\n",
      "[[14  8]\n",
      " [17 36]]\n",
      "\n",
      "******** For threshold = 0.7052631578947369 ******\n",
      "Our testing accuracy is 0.6533333333333333\n",
      "False discovery rate: 0.36363636363636365\n",
      "Precision rate: 0.6363636363636364\n",
      "Error rate: 0.3466666666666667\n",
      "True positive rate: 0.4375\n",
      "False omission rate: 0.33962264150943394\n",
      "Specificity rate: 0.813953488372093\n",
      "[[14  8]\n",
      " [18 35]]\n",
      "\n",
      "******** For threshold = 0.7131578947368421 ******\n",
      "Our testing accuracy is 0.6666666666666666\n",
      "False discovery rate: 0.3181818181818182\n",
      "Precision rate: 0.6818181818181818\n",
      "Error rate: 0.3333333333333333\n",
      "True positive rate: 0.45454545454545453\n",
      "False omission rate: 0.33962264150943394\n",
      "Specificity rate: 0.8333333333333334\n",
      "[[15  7]\n",
      " [18 35]]\n",
      "\n",
      "******** For threshold = 0.7210526315789474 ******\n",
      "Our testing accuracy is 0.6533333333333333\n",
      "False discovery rate: 0.3181818181818182\n",
      "Precision rate: 0.6818181818181818\n",
      "Error rate: 0.3466666666666667\n",
      "True positive rate: 0.4411764705882353\n",
      "False omission rate: 0.3584905660377358\n",
      "Specificity rate: 0.8292682926829268\n",
      "[[15  7]\n",
      " [19 34]]\n",
      "\n",
      "******** For threshold = 0.7289473684210527 ******\n",
      "Our testing accuracy is 0.6533333333333333\n",
      "False discovery rate: 0.3181818181818182\n",
      "Precision rate: 0.6818181818181818\n",
      "Error rate: 0.3466666666666667\n",
      "True positive rate: 0.4411764705882353\n",
      "False omission rate: 0.3584905660377358\n",
      "Specificity rate: 0.8292682926829268\n",
      "[[15  7]\n",
      " [19 34]]\n",
      "\n",
      "******** For threshold = 0.736842105263158 ******\n",
      "Our testing accuracy is 0.6533333333333333\n",
      "False discovery rate: 0.3181818181818182\n",
      "Precision rate: 0.6818181818181818\n",
      "Error rate: 0.3466666666666667\n",
      "True positive rate: 0.4411764705882353\n",
      "False omission rate: 0.3584905660377358\n",
      "Specificity rate: 0.8292682926829268\n",
      "[[15  7]\n",
      " [19 34]]\n",
      "\n",
      "******** For threshold = 0.7447368421052631 ******\n",
      "Our testing accuracy is 0.6533333333333333\n",
      "False discovery rate: 0.3181818181818182\n",
      "Precision rate: 0.6818181818181818\n",
      "Error rate: 0.3466666666666667\n",
      "True positive rate: 0.4411764705882353\n",
      "False omission rate: 0.3584905660377358\n",
      "Specificity rate: 0.8292682926829268\n",
      "[[15  7]\n",
      " [19 34]]\n",
      "\n",
      "******** For threshold = 0.7526315789473684 ******\n",
      "Our testing accuracy is 0.6533333333333333\n",
      "False discovery rate: 0.3181818181818182\n",
      "Precision rate: 0.6818181818181818\n",
      "Error rate: 0.3466666666666667\n",
      "True positive rate: 0.4411764705882353\n",
      "False omission rate: 0.3584905660377358\n",
      "Specificity rate: 0.8292682926829268\n",
      "[[15  7]\n",
      " [19 34]]\n",
      "\n",
      "******** For threshold = 0.7605263157894737 ******\n",
      "Our testing accuracy is 0.6133333333333333\n",
      "False discovery rate: 0.3181818181818182\n",
      "Precision rate: 0.6818181818181818\n",
      "Error rate: 0.38666666666666666\n",
      "True positive rate: 0.40540540540540543\n",
      "False omission rate: 0.41509433962264153\n",
      "Specificity rate: 0.8157894736842105\n",
      "[[15  7]\n",
      " [22 31]]\n",
      "\n",
      "******** For threshold = 0.768421052631579 ******\n",
      "Our testing accuracy is 0.6133333333333333\n",
      "False discovery rate: 0.3181818181818182\n",
      "Precision rate: 0.6818181818181818\n",
      "Error rate: 0.38666666666666666\n",
      "True positive rate: 0.40540540540540543\n",
      "False omission rate: 0.41509433962264153\n",
      "Specificity rate: 0.8157894736842105\n",
      "[[15  7]\n",
      " [22 31]]\n",
      "\n",
      "******** For threshold = 0.7763157894736843 ******\n",
      "Our testing accuracy is 0.6133333333333333\n",
      "False discovery rate: 0.3181818181818182\n",
      "Precision rate: 0.6818181818181818\n",
      "Error rate: 0.38666666666666666\n",
      "True positive rate: 0.40540540540540543\n",
      "False omission rate: 0.41509433962264153\n",
      "Specificity rate: 0.8157894736842105\n",
      "[[15  7]\n",
      " [22 31]]\n",
      "\n",
      "******** For threshold = 0.7842105263157895 ******\n",
      "Our testing accuracy is 0.5866666666666667\n",
      "False discovery rate: 0.3181818181818182\n",
      "Precision rate: 0.6818181818181818\n",
      "Error rate: 0.41333333333333333\n",
      "True positive rate: 0.38461538461538464\n",
      "False omission rate: 0.4528301886792453\n",
      "Specificity rate: 0.8055555555555556\n",
      "[[15  7]\n",
      " [24 29]]\n",
      "\n",
      "******** For threshold = 0.7921052631578948 ******\n",
      "Our testing accuracy is 0.5866666666666667\n",
      "False discovery rate: 0.3181818181818182\n",
      "Precision rate: 0.6818181818181818\n",
      "Error rate: 0.41333333333333333\n",
      "True positive rate: 0.38461538461538464\n",
      "False omission rate: 0.4528301886792453\n",
      "Specificity rate: 0.8055555555555556\n",
      "[[15  7]\n",
      " [24 29]]\n",
      "\n",
      "******** For threshold = 0.8 ******\n",
      "Our testing accuracy is 0.5866666666666667\n",
      "False discovery rate: 0.3181818181818182\n",
      "Precision rate: 0.6818181818181818\n",
      "Error rate: 0.41333333333333333\n",
      "True positive rate: 0.38461538461538464\n",
      "False omission rate: 0.4528301886792453\n",
      "Specificity rate: 0.8055555555555556\n",
      "[[15  7]\n",
      " [24 29]]\n"
     ]
    },
    {
     "name": "stderr",
     "output_type": "stream",
     "text": [
      "/home/mknipfer/.local/lib/python3.7/site-packages/ipykernel_launcher.py:6: FutureWarning: Method .as_matrix will be removed in a future version. Use .values instead.\n",
      "  \n",
      "/home/mknipfer/.local/lib/python3.7/site-packages/ipykernel_launcher.py:7: FutureWarning: Method .as_matrix will be removed in a future version. Use .values instead.\n",
      "  import sys\n",
      "/home/mknipfer/.local/lib/python3.7/site-packages/ipykernel_launcher.py:10: FutureWarning: Method .as_matrix will be removed in a future version. Use .values instead.\n",
      "  # Remove the CWD from sys.path while we load stuff.\n",
      "/home/mknipfer/.local/lib/python3.7/site-packages/ipykernel_launcher.py:11: FutureWarning: Method .as_matrix will be removed in a future version. Use .values instead.\n",
      "  # This is added back by InteractiveShellApp.init_path()\n"
     ]
    }
   ],
   "source": [
    "pred_proba_df = pd.DataFrame(logreg.predict_proba(testX))\n",
    "threshold_list = np.linspace(0.65, 0.8, num=20)\n",
    "for i in threshold_list:\n",
    "    print ('\\n******** For threshold = {} ******'.format(i))\n",
    "    Y_test_pred = pred_proba_df.applymap(lambda x: 1 if x>i else 0)\n",
    "    test_accuracy = metrics.accuracy_score(testy.as_matrix().reshape(testy.as_matrix().size,1),\n",
    "                                           Y_test_pred.iloc[:,1].as_matrix().reshape(Y_test_pred.iloc[:,1].as_matrix().size,1))\n",
    "    print('Our testing accuracy is {}'.format(test_accuracy))\n",
    "\n",
    "    cf_matrix = confusion_matrix(testy.as_matrix().reshape(testy.as_matrix().size,1),\n",
    "                           Y_test_pred.iloc[:,1].as_matrix().reshape(Y_test_pred.iloc[:,1].as_matrix().size,1))\n",
    "    print('False discovery rate:', fd_rate(cf_matrix))\n",
    "    print('Precision rate:', precision_rate(cf_matrix))\n",
    "    print('Error rate:', error_rate(cf_matrix))\n",
    "    print('True positive rate:', tp_rate(cf_matrix))\n",
    "    print('False omission rate:', fo_rate(cf_matrix))\n",
    "    print('Specificity rate:', specificity_rate(cf_matrix))\n",
    "    print(cf_matrix)\n",
    "    # seems like 0.73 is a good threshold?"
   ]
  },
  {
   "cell_type": "code",
   "execution_count": 22,
   "metadata": {},
   "outputs": [
    {
     "name": "stderr",
     "output_type": "stream",
     "text": [
      "/home/mknipfer/.local/lib/python3.7/site-packages/ipykernel_launcher.py:11: FutureWarning: Method .as_matrix will be removed in a future version. Use .values instead.\n",
      "  # This is added back by InteractiveShellApp.init_path()\n",
      "/home/mknipfer/.local/lib/python3.7/site-packages/ipykernel_launcher.py:12: FutureWarning: Method .as_matrix will be removed in a future version. Use .values instead.\n",
      "  if sys.path[0] == '':\n",
      "/home/mknipfer/.local/lib/python3.7/site-packages/ipykernel_launcher.py:13: FutureWarning: Method .as_matrix will be removed in a future version. Use .values instead.\n",
      "  del sys.path[0]\n",
      "/home/mknipfer/.local/lib/python3.7/site-packages/ipykernel_launcher.py:14: FutureWarning: Method .as_matrix will be removed in a future version. Use .values instead.\n",
      "  \n"
     ]
    }
   ],
   "source": [
    "pred_proba_df = pd.DataFrame(logreg.predict_proba(testX))\n",
    "threshold_list = np.linspace(0.4, 0.8, num=70)\n",
    "fd_rate_array = []\n",
    "precision_rate_array = []\n",
    "error_rate_array = []\n",
    "tp_rate_array = []\n",
    "fo_rate_array = []\n",
    "specificity_rate_array = []\n",
    "for i in threshold_list:\n",
    "    Y_test_pred = pred_proba_df.applymap(lambda x: 1 if x>i else 0)\n",
    "    test_accuracy = metrics.accuracy_score(testy.as_matrix().reshape(testy.as_matrix().size,1),\n",
    "                                           Y_test_pred.iloc[:,1].as_matrix().reshape(Y_test_pred.iloc[:,1].as_matrix().size,1))\n",
    "    cf_matrix = confusion_matrix(testy.as_matrix().reshape(testy.as_matrix().size,1),\n",
    "                           Y_test_pred.iloc[:,1].as_matrix().reshape(Y_test_pred.iloc[:,1].as_matrix().size,1))\n",
    "    fd_rate_array.append(fd_rate(cf_matrix))\n",
    "    precision_rate_array.append(precision_rate(cf_matrix))\n",
    "    error_rate_array.append(error_rate(cf_matrix))\n",
    "    tp_rate_array.append(tp_rate(cf_matrix))\n",
    "    fo_rate_array.append(fo_rate(cf_matrix))\n",
    "    specificity_rate_array.append(specificity_rate(cf_matrix))\n"
   ]
  },
  {
   "cell_type": "code",
   "execution_count": 23,
   "metadata": {
    "scrolled": true
   },
   "outputs": [
    {
     "data": {
      "text/plain": [
       "Text(0, 0.5, 'rate')"
      ]
     },
     "execution_count": 23,
     "metadata": {},
     "output_type": "execute_result"
    },
    {
     "data": {
      "image/png": "[encoded data removed]",
      "text/plain": [
       "<Figure size 432x288 with 1 Axes>"
      ]
     },
     "metadata": {
      "needs_background": "light"
     },
     "output_type": "display_data"
    }
   ],
   "source": [
    "plt.plot(threshold_list, fd_rate_array, label = 'false discovery rate')\n",
    "plt.plot(threshold_list, precision_rate_array, label = 'precision rate')\n",
    "plt.plot(threshold_list, error_rate_array, label = 'error rate')\n",
    "plt.plot(threshold_list, fo_rate_array, label = 'false omission rate')\n",
    "plt.plot(threshold_list, tp_rate_array, label = 'true positive rate')\n",
    "plt.plot(threshold_list, specificity_rate_array, label = 'specificity rate')\n",
    "plt.legend(loc=2)\n",
    "plt.xlabel('threshold')\n",
    "plt.ylabel('rate')"
   ]
  },
  {
   "cell_type": "markdown",
   "metadata": {},
   "source": [
    "# Improvements"
   ]
  },
  {
   "cell_type": "markdown",
   "metadata": {},
   "source": [
    "# Over-sampling using SMOTE\n",
    "\n",
    "oversampling only train data"
   ]
  },
  {
   "cell_type": "code",
   "execution_count": 24,
   "metadata": {},
   "outputs": [
    {
     "name": "stdout",
     "output_type": "stream",
     "text": [
      "length of oversampled data is  954\n",
      "Number of 0 in oversampled data 477\n",
      "Number of 1 477\n",
      "Proportion of 0 data in oversampled data is  0.5\n",
      "Proportion of 1 data in oversampled data is  0.5\n"
     ]
    },
    {
     "name": "stderr",
     "output_type": "stream",
     "text": [
      "/usr/lib/python3.7/site-packages/sklearn/utils/validation.py:761: DataConversionWarning: A column-vector y was passed when a 1d array was expected. Please change the shape of y to (n_samples, ), for example using ravel().\n",
      "  y = column_or_1d(y, warn=True)\n"
     ]
    }
   ],
   "source": [
    "X = dfx_ohc.loc[:, dfx_ohc.columns != 'y']\n",
    "y = dfx_ohc.loc[:, dfx_ohc.columns == 'y']\n",
    "\n",
    "\n",
    "os = SMOTE(random_state=0)\n",
    "X_train, X_test, y_train, y_test = train_test_split(X, y, test_size=0.1, random_state=0)\n",
    "columns = X_train.columns\n",
    "\n",
    "os_data_X,os_data_y=os.fit_sample(X_train, y_train)\n",
    "os_data_X = pd.DataFrame(data=os_data_X,columns=columns )\n",
    "os_data_y= pd.DataFrame(data=os_data_y,columns=['y'])\n",
    "# we can Check the numbers of our data\n",
    "print(\"length of oversampled data is \",len(os_data_X))\n",
    "print(\"Number of 0 in oversampled data\",len(os_data_y[os_data_y['y']==0]))\n",
    "print(\"Number of 1\",len(os_data_y[os_data_y['y']==1]))\n",
    "print(\"Proportion of 0 data in oversampled data is \",len(os_data_y[os_data_y['y']==0])/len(os_data_X))\n",
    "print(\"Proportion of 1 data in oversampled data is \",len(os_data_y[os_data_y['y']==1])/len(os_data_X))"
   ]
  },
  {
   "cell_type": "markdown",
   "metadata": {},
   "source": [
    "only take use_cols"
   ]
  },
  {
   "cell_type": "code",
   "execution_count": 25,
   "metadata": {},
   "outputs": [],
   "source": [
    "trainX = os_data_X\n",
    "trainy = os_data_y\n",
    "testX = X_test\n",
    "testy = y_test"
   ]
  },
  {
   "cell_type": "code",
   "execution_count": 26,
   "metadata": {},
   "outputs": [
    {
     "name": "stderr",
     "output_type": "stream",
     "text": [
      "/usr/lib/python3.7/site-packages/sklearn/linear_model/logistic.py:433: FutureWarning: Default solver will be changed to 'lbfgs' in 0.22. Specify a solver to silence this warning.\n",
      "  FutureWarning)\n",
      "/usr/lib/python3.7/site-packages/sklearn/utils/validation.py:761: DataConversionWarning: A column-vector y was passed when a 1d array was expected. Please change the shape of y to (n_samples, ), for example using ravel().\n",
      "  y = column_or_1d(y, warn=True)\n"
     ]
    },
    {
     "data": {
      "text/plain": [
       "LogisticRegression(C=1.0, class_weight=None, dual=False, fit_intercept=True,\n",
       "          intercept_scaling=1, max_iter=100, multi_class='warn',\n",
       "          n_jobs=None, penalty='l2', random_state=None, solver='warn',\n",
       "          tol=0.0001, verbose=0, warm_start=False)"
      ]
     },
     "execution_count": 26,
     "metadata": {},
     "output_type": "execute_result"
    }
   ],
   "source": [
    "logreg_os = LogisticRegression()\n",
    "logreg_os.fit(trainX, trainy)"
   ]
  },
  {
   "cell_type": "code",
   "execution_count": 27,
   "metadata": {},
   "outputs": [
    {
     "name": "stdout",
     "output_type": "stream",
     "text": [
      "Accuracy of logistic regression classifier on test set: 0.80\n"
     ]
    }
   ],
   "source": [
    "y_pred = logreg_os.predict(testX)\n",
    "print('Accuracy of logistic regression classifier on test set: {:.2f}'.format(logreg_os.score(testX, testy)))"
   ]
  },
  {
   "cell_type": "markdown",
   "metadata": {},
   "source": [
    "# Saving models"
   ]
  },
  {
   "cell_type": "code",
   "execution_count": 28,
   "metadata": {},
   "outputs": [
    {
     "data": {
      "text/plain": [
       "['ohc_cols.joblib']"
      ]
     },
     "execution_count": 28,
     "metadata": {},
     "output_type": "execute_result"
    }
   ],
   "source": [
    "dump(logreg, 'logreg.joblib')\n",
    "dump(logreg_os, 'logreg_os.joblib')\n",
    "dump(use_cols, 'usecols.joblib')\n",
    "dump(ohc_columns, 'ohc_cols.joblib')"
   ]
  },
  {
   "cell_type": "code",
   "execution_count": null,
   "metadata": {},
   "outputs": [],
   "source": []
  },
  {
   "cell_type": "code",
   "execution_count": null,
   "metadata": {},
   "outputs": [],
   "source": []
  }
 ],
 "metadata": {
  "kernelspec": {
   "display_name": "Python 3",
   "language": "python",
   "name": "python3"
  },
  "language_info": {
   "codemirror_mode": {
    "name": "ipython",
    "version": 3
   },
   "file_extension": ".py",
   "mimetype": "text/x-python",
   "name": "python",
   "nbconvert_exporter": "python",
   "pygments_lexer": "ipython3",
   "version": "3.7.1"
  }
 },
 "nbformat": 4,
 "nbformat_minor": 2
}
